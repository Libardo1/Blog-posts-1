{
 "cells": [
  {
   "cell_type": "code",
   "execution_count": 78,
   "metadata": {},
   "outputs": [],
   "source": [
    "from datetime import datetime\n",
    "from __future__ import division\n",
    "import matplotlib.pylab as plt\n",
    "import numpy as np\n",
    "from numpy.linalg import cholesky\n",
    "import pandas as pd\n",
    "from pandas_datareader.data import DataReader\n",
    "from scipy.stats import norm\n",
    "%matplotlib inline"
   ]
  },
  {
   "cell_type": "markdown",
   "metadata": {},
   "source": [
    "# Modeling & Quantifying Financial Risk "
   ]
  },
  {
   "cell_type": "markdown",
   "metadata": {},
   "source": [
    "This blog post looks at how we can model and quantify financial risk. It discusses concepts such as VaR, copulas and model calibration using techniques such as Maximum Likelihood.\n",
    "\n",
    "Our approach is as follows: we first discuss the concept of maximum likelihood. This a statistical technique for parameter estimation of a distribution on a given dataset. In particular, we apply this technique to estimate the parameters of the student t distribution.\n",
    "\n",
    "Next we consider a portfolio of assets (stocks). We model the historical data using a student t distribution"
   ]
  },
  {
   "cell_type": "markdown",
   "metadata": {},
   "source": [
    "#### Maxmimum Likelihood"
   ]
  },
  {
   "cell_type": "markdown",
   "metadata": {},
   "source": [
    "Maximum likelihood is a technique used to estimate parameters of a distribution which we are fitting to given a dataset $\\lbrace x_i\\rbrace_{i=1}^N$. Recall that when we fit a Gaussian distribution to a dataset we need to estimate two parameters: the mean and the variance. These are easily extracted from the dataset using the estimators $\\hat{\\mu} = \\sum_{i=1}^N x_i / n$ and $\\hat{\\sigma}^2 = \\sum_{i=1}^N (x_i - \\hat{\\mu})^2 / n$. These two parameters uniquely fix the Gaussian distribution fitted to the data.\n",
    "\n",
    "However, many distributions are characterized by other parameters, which we collectively write by $\\lbrace\\theta_i\\rbrace_{i=1}^p$ with $p$ the number of free parameters. For instance, a student t distribution has the so-called degrees of freedom parameter. Fitting a distribution to a dataset requires us to fix these parameters in a way that generates the 'best fit'. Although 'best fit' is somehwat subjective, the maxmimum likelihood is a\n",
    "\n",
    "Given a dataset $\\lbrace x_i\\rbrace_{i=1}^N$ and a distribution $f(x | \\theta)$ characterized by a parameter $\\theta$ we construct the likelihood function as\n",
    "\n",
    "$$ \\mathcal{L}(\\theta | x_1 , \\ldots, x_n) = \\prod_{i=1}^n f(x_i|\\theta)$$\n",
    "\n",
    "The dataset is given to us, so this expression is really only a function of $\\theta$. As this parameter is varied we fit different distributions $f(\\cdot | \\theta)$ to the dataset. As the name suggests, the maximum likelihood fit is obtained by picking the $\\theta$ which maximizes the likelihood function.\n",
    "\n",
    "First, however, we note that the likelihood function almost always leads to a very small number. This can cause computational problem. Instead, we therefore consider the log-likelihood function given by\n",
    "\n",
    "$$ \\log \\mathcal{L}(\\theta | x_1 , \\ldots, x_n) = \\log\\big(\\prod_{i=1}^n f(x_i|\\theta) \\big) = \\sum_{i=1}^n \\log(f(x_i|\\theta)$$\n",
    "\n",
    "Since the logarithm is convex it will map maximum points to maximum points. So to obtain the maximum likelihood estimate of $\\theta$ we can simply optimize the log-likelihood instead. It also common to consider the minus log likelihood function. Optimization corresponds to finding the minimum of this function.\n",
    "\n",
    "\n",
    "If the log-likelihood function is not too complicated then we can use analytical tools to obtain the MLE of theta (maximum likelihood estimator). See for instance wikipedia for a derivation of the MLE's for a Gaussian distribution. However, for more complicated expressions we need to resort to numerical optimization techniques to optimize the LL function.\n",
    "\n",
    "Here we use the most straightforward way of optimization (using `fmin`). We can do better using for instance explicit implementation of the first and second derivatives, but this requires knowledge of the pdf."
   ]
  },
  {
   "cell_type": "code",
   "execution_count": 79,
   "metadata": {},
   "outputs": [],
   "source": [
    "from scipy.optimize import fmin"
   ]
  },
  {
   "cell_type": "markdown",
   "metadata": {},
   "source": [
    "First, we need to define two helper functions that we'll need later on.."
   ]
  },
  {
   "cell_type": "code",
   "execution_count": 80,
   "metadata": {
    "collapsed": true
   },
   "outputs": [],
   "source": [
    "def graphicalComparisonPdf(X, modelPdf, scale = True, xMin = None, xMax = None, axes_object=None, nBins=None):\n",
    "    _X = X[np.logical_not(np.isnan(X))]\n",
    "    if xMax is None:\n",
    "        xMax = np.max(_X) # default parameter of xMax\n",
    "    if xMin is None:\n",
    "        xMin = np.min(_X) # default parameter of xMin\n",
    "    nPlot = 1000\n",
    "    xPlot = np.linspace(xMin, xMax, nPlot)\n",
    "    yPlot = modelPdf(xPlot)\n",
    "    if nBins is None:\n",
    "        nBins = np.min([np.sqrt(X.size), 40])  \n",
    "    widthHistogram          = np.max(_X)- np.min(_X)\n",
    "    averageHeightHistogram  = _X.size/nBins\n",
    "    areaHistogram           = widthHistogram*averageHeightHistogram\n",
    "    \n",
    "    pdfScaleFactor = areaHistogram if not scale else 1 \n",
    "    # if scale = False we rescale modelPDF(x) by the area of the histogram\n",
    "    # if scale = True the histogram is scaled, such that its area is 1 (as is the case for modelPDF(x))\n",
    "    \n",
    "    if axes_object is None:\n",
    "        fig = plt.figure()\n",
    "        ax = fig.add_subplot(111)\n",
    "    else:\n",
    "        ax = axes_object\n",
    "    \n",
    "    _, _, p = ax.hist(_X, bins=nBins, normed = scale)\n",
    "    l, = ax.plot(xPlot, yPlot * pdfScaleFactor, 'r', linewidth=3)\n",
    "    \n",
    "    ax.set_xlabel('x')\n",
    "    ax.set_ylabel('pdf(x)')\n",
    "    ax.set_xlim(xMin, xMax)\n",
    "    if scale:\n",
    "        plt.legend([l, p[0]], ['pdf(x)', 'scaled histogram'], loc='best')\n",
    "    else:\n",
    "        plt.legend([l, p[0]], ['scaled pdf(x)', 'histogram'], loc='best')\n",
    "    return ax"
   ]
  },
  {
   "cell_type": "code",
   "execution_count": 81,
   "metadata": {
    "collapsed": true
   },
   "outputs": [],
   "source": [
    "def multivariateGaussianRand(M, mu, Sigma):\n",
    "    \"\"\"\n",
    "    multivariateGaussianRand: Generate random numbers from a D-dimensional Gaussian\n",
    "    INPUT:\n",
    "         M : size of the sample\n",
    "        mu : vector of means   [D,1]\n",
    "     Sigma : covariance matrix [D,D]\n",
    "    OUTPUT:\n",
    "         Z : Sample from N(mu,Sigma) Gaussian  [M,D]  \n",
    "    \"\"\"\n",
    "    mu = np.asarray(mu)\n",
    "    Sigma = np.asarray(Sigma)\n",
    "    \n",
    "    D = mu.size\n",
    "    \n",
    "    L = cholesky(Sigma).T\n",
    "    \n",
    "    ## Generate M samples of D-dimensional vectors of independent Gaussians \n",
    "    X = np.random.randn(D, M)\n",
    "    \n",
    "    \n",
    "    ## Transform vectors into vectors with proper mean and correlations\n",
    "    Z = mu[:, np.newaxis] + np.dot(L, X)\n",
    "    return Z.T"
   ]
  },
  {
   "cell_type": "markdown",
   "metadata": {},
   "source": [
    "We define a generic handle to the minus Log Likelihood function for a given pdf. "
   ]
  },
  {
   "cell_type": "code",
   "execution_count": 82,
   "metadata": {},
   "outputs": [],
   "source": [
    "def minusLogLikelihood(pdf, X, parameters):\n",
    "    \"\"\"\n",
    "    minusLogLikelihood: minus the likelihood of a model pdf, given the data sample X\n",
    "\n",
    "    INPUT:\n",
    "    parameters : Parameters of the model pdf\n",
    "           pdf : Model pdf\n",
    "             X : Sample\n",
    "\n",
    "    OUTPUT:\n",
    "           mLL : value of minus the loglikelihood, normalized by the sample size\n",
    "    \"\"\"\n",
    "    # Compute minus the log likelihood\n",
    "    return -np.sum(np.log(pdf(X, parameters)))\n"
   ]
  },
  {
   "cell_type": "markdown",
   "metadata": {},
   "source": [
    "Then the fit function is given by"
   ]
  },
  {
   "cell_type": "code",
   "execution_count": 83,
   "metadata": {},
   "outputs": [],
   "source": [
    "def fit2pdf(X, pdf, parameterseed):\n",
    "    \"\"\"\n",
    "    Maximum likelihood fit to a PDF\n",
    "    INPUT:\n",
    "                  X : Sample\n",
    "                pdf : Model pdf\n",
    "      parameterlist : Seed for the parameters\n",
    "    OUTPUT:\n",
    "      logLikelihood : value of the loglikelihood\n",
    "         varargaout : list of parameters that maximize the likelihood\n",
    "    \"\"\"\n",
    "\n",
    "    def mLL(parameterlist):\n",
    "        return minusLogLikelihood(pdf, X, parameterlist)\n",
    "\n",
    "    varargout = fmin(mLL, parameterseed, xtol=1e-8, disp=0)\n",
    "\n",
    "    logLikelihood = -mLL(varargout)\n",
    "    return logLikelihood, varargout\n",
    "    "
   ]
  },
  {
   "cell_type": "markdown",
   "metadata": {},
   "source": [
    "For example, we create a dataset of 1000 samples drawn from a normal distribution, and scale this to a $N(\\mu=10, \\sigma=3)$ distribution. The `fit2pdf` then generates the following estimates"
   ]
  },
  {
   "cell_type": "code",
   "execution_count": 84,
   "metadata": {},
   "outputs": [
    {
     "name": "stdout",
     "output_type": "stream",
     "text": [
      "Estimated parameters (mu, sigma):  10.1065256191 , 2.92141020909\n",
      "Sample mean and variance: 10.1065255708 2.92141024573\n"
     ]
    }
   ],
   "source": [
    "X = 3 * np.random.randn(1000) + 10\n",
    "def gaussPDF(x, args):\n",
    "    mu = args[0]\n",
    "    sigma = args[1]\n",
    "    return np.exp(-(x-mu)**2/(2 * sigma**2)) / (np.sqrt(2 * np.pi) * sigma)\n",
    "finalLL, param = fit2pdf(X, gaussPDF, [1, 2])\n",
    "print \"Estimated parameters (mu, sigma): \", param[0], \",\", param[1]\n",
    "print \"Sample mean and variance:\", X.mean(), X.std()"
   ]
  },
  {
   "cell_type": "markdown",
   "metadata": {},
   "source": [
    "Sometimes the optimization procedure leads to unrealistic parameter estimates due to runaway solutions. We can therefore also use a bounded optimzation procedure using `fminbound`. In SciPy this particular implementation can only handle scalar functions. "
   ]
  },
  {
   "cell_type": "code",
   "execution_count": 85,
   "metadata": {},
   "outputs": [],
   "source": [
    "from scipy.optimize import fminbound\n",
    "\n",
    "def fit2pdf_con(X, pdf, lb, ub):\n",
    "    \"\"\"\n",
    "    fit2pdf_con: ML fit to a pdf, considering lower and upper bound constraints\n",
    "\n",
    "    INPUT:\n",
    "                 X : Sample\n",
    "               pdf : Model pdf\n",
    "                lb : lower bound constraints for the parameters\n",
    "                ub : upper bound constraints for the parameters\n",
    "\n",
    "    OUTPUT:\n",
    "     logLikelihood : value of the loglikelihood\n",
    "        varargaout : list of parameters than maximize the likelihood\n",
    "    \"\"\"\n",
    "    \n",
    "    def mLL(parameterlist):\n",
    "        return minusLogLikelihood(pdf, X, parameterlist)\n",
    "\n",
    "    varargout = fminbound(mLL, lb, ub, xtol=1e-8, disp=0)\n",
    "\n",
    "    logLikelihood = -mLL(varargout)\n",
    "    return logLikelihood, varargout"
   ]
  },
  {
   "cell_type": "code",
   "execution_count": 86,
   "metadata": {},
   "outputs": [
    {
     "name": "stdout",
     "output_type": "stream",
     "text": [
      "Estimated parameter mu: 10.0522986126\n",
      "True mean: 10.0522986126\n"
     ]
    }
   ],
   "source": [
    "X = np.random.randn(1000) + 10\n",
    "def gaussPDF2(x, mu):\n",
    "    sigma = 1\n",
    "    return np.exp(-(x-mu)**2/(2 * sigma**2)) / (np.sqrt(2 * np.pi) * sigma)\n",
    "\n",
    "\n",
    "finalLL, param = fit2pdf_con(X, gaussPDF2, 0, 15)\n",
    "print \"Estimated parameter mu:\", param\n",
    "print \"True mean:\", X.mean()"
   ]
  },
  {
   "cell_type": "markdown",
   "metadata": {},
   "source": [
    "Example: GOOGLE stock"
   ]
  },
  {
   "cell_type": "markdown",
   "metadata": {},
   "source": [
    "Consider now the log returns of the Google stock. In week 1 we already saw that a simply, but primitive fit of the log returns is generated by the normal distribution. We show this result here using the MLE method."
   ]
  },
  {
   "cell_type": "code",
   "execution_count": 52,
   "metadata": {},
   "outputs": [
    {
     "data": {
      "text/plain": [
       "<matplotlib.axes._subplots.AxesSubplot at 0x1081fc610>"
      ]
     },
     "execution_count": 52,
     "metadata": {},
     "output_type": "execute_result"
    },
    {
     "data": {
      "image/png": "[encoded data removed]",
      "text/plain": [
       "<matplotlib.figure.Figure at 0x107d6ea90>"
      ]
     },
     "metadata": {},
     "output_type": "display_data"
    }
   ],
   "source": [
    "S = pdr.get_data_yahoo('GOOGL')\n",
    "logReturn = np.log(S / S.shift(1))\n",
    "logReturn.dropna(inplace=True)\n",
    "logReturn.plot()"
   ]
  },
  {
   "cell_type": "markdown",
   "metadata": {},
   "source": [
    "The PDF we use is the normal distribution"
   ]
  },
  {
   "cell_type": "code",
   "execution_count": 53,
   "metadata": {},
   "outputs": [],
   "source": [
    "def gaussPDF(x, args):\n",
    "    mu, sigma = args     \n",
    "    return np.exp(-(x-mu)**2/(2 * sigma**2)) / (np.sqrt(2 * np.pi) * sigma)"
   ]
  },
  {
   "cell_type": "markdown",
   "metadata": {},
   "source": [
    "Next, we obtain the MLE and compare it to the sample estimates of the mean and standard deviation. For the Gaussian the parameters mu and sigma coincide with the sample mean and standard deviation, so we should obtain the same values. We use then use the graphicalComparisonPdf function to estimate the goodness of our fit."
   ]
  },
  {
   "cell_type": "code",
   "execution_count": 54,
   "metadata": {},
   "outputs": [
    {
     "ename": "ValueError",
     "evalue": "setting an array element with a sequence.",
     "output_type": "error",
     "traceback": [
      "\u001b[0;31m---------------------------------------------------------------------------\u001b[0m",
      "\u001b[0;31mValueError\u001b[0m                                Traceback (most recent call last)",
      "\u001b[0;32m<ipython-input-54-050ec7d46704>\u001b[0m in \u001b[0;36m<module>\u001b[0;34m()\u001b[0m\n\u001b[1;32m      7\u001b[0m         \u001b[0;32mreturn\u001b[0m \u001b[0mgaussPDF\u001b[0m\u001b[0;34m(\u001b[0m\u001b[0mx\u001b[0m\u001b[0;34m,\u001b[0m \u001b[0;34m(\u001b[0m\u001b[0mmu\u001b[0m\u001b[0;34m,\u001b[0m \u001b[0msigma\u001b[0m\u001b[0;34m)\u001b[0m\u001b[0;34m)\u001b[0m\u001b[0;34m\u001b[0m\u001b[0m\n\u001b[1;32m      8\u001b[0m     \u001b[0mgraphicalComparisonPdf\u001b[0m\u001b[0;34m(\u001b[0m\u001b[0mlogReturn\u001b[0m\u001b[0;34m,\u001b[0m \u001b[0mmodelPDF\u001b[0m\u001b[0;34m)\u001b[0m\u001b[0;34m\u001b[0m\u001b[0m\n\u001b[0;32m----> 9\u001b[0;31m \u001b[0mfitReturns\u001b[0m\u001b[0;34m(\u001b[0m\u001b[0;34m)\u001b[0m\u001b[0;34m\u001b[0m\u001b[0m\n\u001b[0m",
      "\u001b[0;32m<ipython-input-54-050ec7d46704>\u001b[0m in \u001b[0;36mfitReturns\u001b[0;34m()\u001b[0m\n\u001b[1;32m      1\u001b[0m \u001b[0;32mdef\u001b[0m \u001b[0mfitReturns\u001b[0m\u001b[0;34m(\u001b[0m\u001b[0;34m)\u001b[0m\u001b[0;34m:\u001b[0m\u001b[0;34m\u001b[0m\u001b[0m\n\u001b[0;32m----> 2\u001b[0;31m     \u001b[0mLL\u001b[0m\u001b[0;34m,\u001b[0m \u001b[0;34m(\u001b[0m\u001b[0mmu\u001b[0m\u001b[0;34m,\u001b[0m \u001b[0msigma\u001b[0m\u001b[0;34m)\u001b[0m \u001b[0;34m=\u001b[0m  \u001b[0mfit2pdf\u001b[0m\u001b[0;34m(\u001b[0m\u001b[0mlogReturn\u001b[0m\u001b[0;34m,\u001b[0m \u001b[0mgaussPDF\u001b[0m\u001b[0;34m,\u001b[0m \u001b[0;34m[\u001b[0m\u001b[0;36m0\u001b[0m\u001b[0;34m,\u001b[0m \u001b[0;36m1\u001b[0m\u001b[0;34m]\u001b[0m\u001b[0;34m)\u001b[0m\u001b[0;34m\u001b[0m\u001b[0m\n\u001b[0m\u001b[1;32m      3\u001b[0m     \u001b[0;32mprint\u001b[0m \u001b[0;34m\"Estimated parameters:\"\u001b[0m\u001b[0;34m,\u001b[0m \u001b[0mmu\u001b[0m\u001b[0;34m,\u001b[0m \u001b[0msigma\u001b[0m\u001b[0;34m\u001b[0m\u001b[0m\n\u001b[1;32m      4\u001b[0m     \u001b[0;32mprint\u001b[0m \u001b[0;34m\"Sample estimates:\"\u001b[0m\u001b[0;34m,\u001b[0m \u001b[0mlogReturn\u001b[0m\u001b[0;34m.\u001b[0m\u001b[0mmean\u001b[0m\u001b[0;34m(\u001b[0m\u001b[0;34m)\u001b[0m\u001b[0;34m,\u001b[0m \u001b[0mlogReturn\u001b[0m\u001b[0;34m.\u001b[0m\u001b[0mstd\u001b[0m\u001b[0;34m(\u001b[0m\u001b[0;34m)\u001b[0m\u001b[0;34m\u001b[0m\u001b[0m\n\u001b[1;32m      5\u001b[0m \u001b[0;34m\u001b[0m\u001b[0m\n",
      "\u001b[0;32m<ipython-input-44-5dda8aaabac6>\u001b[0m in \u001b[0;36mfit2pdf\u001b[0;34m(X, pdf, parameterseed)\u001b[0m\n\u001b[1;32m     14\u001b[0m         \u001b[0;32mreturn\u001b[0m \u001b[0mminusLogLikelihood\u001b[0m\u001b[0;34m(\u001b[0m\u001b[0mpdf\u001b[0m\u001b[0;34m,\u001b[0m \u001b[0mX\u001b[0m\u001b[0;34m,\u001b[0m \u001b[0mparameterlist\u001b[0m\u001b[0;34m)\u001b[0m\u001b[0;34m\u001b[0m\u001b[0m\n\u001b[1;32m     15\u001b[0m \u001b[0;34m\u001b[0m\u001b[0m\n\u001b[0;32m---> 16\u001b[0;31m     \u001b[0mvarargout\u001b[0m \u001b[0;34m=\u001b[0m \u001b[0mfmin\u001b[0m\u001b[0;34m(\u001b[0m\u001b[0mmLL\u001b[0m\u001b[0;34m,\u001b[0m \u001b[0mparameterseed\u001b[0m\u001b[0;34m,\u001b[0m \u001b[0mxtol\u001b[0m\u001b[0;34m=\u001b[0m\u001b[0;36m1e-8\u001b[0m\u001b[0;34m,\u001b[0m \u001b[0mdisp\u001b[0m\u001b[0;34m=\u001b[0m\u001b[0;36m0\u001b[0m\u001b[0;34m)\u001b[0m\u001b[0;34m\u001b[0m\u001b[0m\n\u001b[0m\u001b[1;32m     17\u001b[0m \u001b[0;34m\u001b[0m\u001b[0m\n\u001b[1;32m     18\u001b[0m     \u001b[0mlogLikelihood\u001b[0m \u001b[0;34m=\u001b[0m \u001b[0;34m-\u001b[0m\u001b[0mmLL\u001b[0m\u001b[0;34m(\u001b[0m\u001b[0mvarargout\u001b[0m\u001b[0;34m)\u001b[0m\u001b[0;34m\u001b[0m\u001b[0m\n",
      "\u001b[0;32m/usr/local/lib/python2.7/site-packages/scipy/optimize/optimize.pyc\u001b[0m in \u001b[0;36mfmin\u001b[0;34m(func, x0, args, xtol, ftol, maxiter, maxfun, full_output, disp, retall, callback, initial_simplex)\u001b[0m\n\u001b[1;32m    391\u001b[0m             'initial_simplex': initial_simplex}\n\u001b[1;32m    392\u001b[0m \u001b[0;34m\u001b[0m\u001b[0m\n\u001b[0;32m--> 393\u001b[0;31m     \u001b[0mres\u001b[0m \u001b[0;34m=\u001b[0m \u001b[0m_minimize_neldermead\u001b[0m\u001b[0;34m(\u001b[0m\u001b[0mfunc\u001b[0m\u001b[0;34m,\u001b[0m \u001b[0mx0\u001b[0m\u001b[0;34m,\u001b[0m \u001b[0margs\u001b[0m\u001b[0;34m,\u001b[0m \u001b[0mcallback\u001b[0m\u001b[0;34m=\u001b[0m\u001b[0mcallback\u001b[0m\u001b[0;34m,\u001b[0m \u001b[0;34m**\u001b[0m\u001b[0mopts\u001b[0m\u001b[0;34m)\u001b[0m\u001b[0;34m\u001b[0m\u001b[0m\n\u001b[0m\u001b[1;32m    394\u001b[0m     \u001b[0;32mif\u001b[0m \u001b[0mfull_output\u001b[0m\u001b[0;34m:\u001b[0m\u001b[0;34m\u001b[0m\u001b[0m\n\u001b[1;32m    395\u001b[0m         \u001b[0mretlist\u001b[0m \u001b[0;34m=\u001b[0m \u001b[0mres\u001b[0m\u001b[0;34m[\u001b[0m\u001b[0;34m'x'\u001b[0m\u001b[0;34m]\u001b[0m\u001b[0;34m,\u001b[0m \u001b[0mres\u001b[0m\u001b[0;34m[\u001b[0m\u001b[0;34m'fun'\u001b[0m\u001b[0;34m]\u001b[0m\u001b[0;34m,\u001b[0m \u001b[0mres\u001b[0m\u001b[0;34m[\u001b[0m\u001b[0;34m'nit'\u001b[0m\u001b[0;34m]\u001b[0m\u001b[0;34m,\u001b[0m \u001b[0mres\u001b[0m\u001b[0;34m[\u001b[0m\u001b[0;34m'nfev'\u001b[0m\u001b[0;34m]\u001b[0m\u001b[0;34m,\u001b[0m \u001b[0mres\u001b[0m\u001b[0;34m[\u001b[0m\u001b[0;34m'status'\u001b[0m\u001b[0;34m]\u001b[0m\u001b[0;34m\u001b[0m\u001b[0m\n",
      "\u001b[0;32m/usr/local/lib/python2.7/site-packages/scipy/optimize/optimize.pyc\u001b[0m in \u001b[0;36m_minimize_neldermead\u001b[0;34m(func, x0, args, callback, maxiter, maxfev, disp, return_all, initial_simplex, xatol, fatol, **unknown_options)\u001b[0m\n\u001b[1;32m    515\u001b[0m \u001b[0;34m\u001b[0m\u001b[0m\n\u001b[1;32m    516\u001b[0m     \u001b[0;32mfor\u001b[0m \u001b[0mk\u001b[0m \u001b[0;32min\u001b[0m \u001b[0mrange\u001b[0m\u001b[0;34m(\u001b[0m\u001b[0mN\u001b[0m \u001b[0;34m+\u001b[0m \u001b[0;36m1\u001b[0m\u001b[0;34m)\u001b[0m\u001b[0;34m:\u001b[0m\u001b[0;34m\u001b[0m\u001b[0m\n\u001b[0;32m--> 517\u001b[0;31m         \u001b[0mfsim\u001b[0m\u001b[0;34m[\u001b[0m\u001b[0mk\u001b[0m\u001b[0;34m]\u001b[0m \u001b[0;34m=\u001b[0m \u001b[0mfunc\u001b[0m\u001b[0;34m(\u001b[0m\u001b[0msim\u001b[0m\u001b[0;34m[\u001b[0m\u001b[0mk\u001b[0m\u001b[0;34m]\u001b[0m\u001b[0;34m)\u001b[0m\u001b[0;34m\u001b[0m\u001b[0m\n\u001b[0m\u001b[1;32m    518\u001b[0m \u001b[0;34m\u001b[0m\u001b[0m\n\u001b[1;32m    519\u001b[0m     \u001b[0mind\u001b[0m \u001b[0;34m=\u001b[0m \u001b[0mnumpy\u001b[0m\u001b[0;34m.\u001b[0m\u001b[0margsort\u001b[0m\u001b[0;34m(\u001b[0m\u001b[0mfsim\u001b[0m\u001b[0;34m)\u001b[0m\u001b[0;34m\u001b[0m\u001b[0m\n",
      "\u001b[0;31mValueError\u001b[0m: setting an array element with a sequence."
     ]
    }
   ],
   "source": [
    "def fitReturns():\n",
    "    LL, (mu, sigma) =  fit2pdf(logReturn, gaussPDF, [0, 1])\n",
    "    print \"Estimated parameters:\", mu, sigma\n",
    "    print \"Sample estimates:\", logReturn.mean(), logReturn.std()\n",
    "    \n",
    "    def modelPDF(x):\n",
    "        return gaussPDF(x, (mu, sigma))\n",
    "    graphicalComparisonPdf(logReturn, modelPDF)\n",
    "fitReturns()"
   ]
  },
  {
   "cell_type": "markdown",
   "metadata": {},
   "source": [
    "#### Student-t distribution"
   ]
  },
  {
   "cell_type": "markdown",
   "metadata": {},
   "source": [
    "From the above fit we notice that the normal distribution does not produce high quality fits of stock data. In particular, it underestimates the tail events. Here we take a look at the student t distribution as an alternative model.\n",
    "\n",
    "We first define some handles to the distribution."
   ]
  },
  {
   "cell_type": "code",
   "execution_count": 55,
   "metadata": {},
   "outputs": [],
   "source": [
    "from scipy.stats import t as tdist\n",
    "\n",
    "## Define the \n",
    "\n",
    "def locationScaleTcdf(x, mu, sigma, nu):\n",
    "    return tdist.cdf((x - mu)/sigma, nu)\n",
    "\n",
    "\n",
    "def locationScaleTinv(p, mu, sigma, nu):\n",
    "    return mu + sigma * tdist.ppf(p, nu)\n",
    "\n",
    "def locationScaleTpdf(x, mu, sigma, nu):\n",
    "    return tdist.pdf((x - mu)/sigma, nu) / sigma"
   ]
  },
  {
   "cell_type": "code",
   "execution_count": 56,
   "metadata": {},
   "outputs": [
    {
     "data": {
      "image/png": "[encoded data removed]",
      "text/plain": [
       "<matplotlib.figure.Figure at 0x1085c81d0>"
      ]
     },
     "metadata": {},
     "output_type": "display_data"
    }
   ],
   "source": [
    "def demo_studentT():\n",
    "    mu = 0\n",
    "    sigma = 1\n",
    "    nu = [1, 2, 5, 30]\n",
    "    alpha = 6 \n",
    "    xMin = mu - alpha * sigma\n",
    "    xMax = mu + alpha * sigma\n",
    "    nPlot = 1000\n",
    "    xPlot = np.linspace(xMin, xMax, nPlot)\n",
    "    fig = plt.figure(figsize=(10,8))\n",
    "    ax_pdf = fig.add_subplot(211)\n",
    "    ax_cdf = fig.add_subplot(212)\n",
    "    for n in nu:\n",
    "        ax_pdf.plot(xPlot, locationScaleTpdf(xPlot, mu, sigma, n), label=r'$\\nu$ = {}'.format(n))\n",
    "        ax_cdf.plot(xPlot, locationScaleTcdf(xPlot, mu, sigma, n), label=r'$\\nu$ = {}'.format(n))\n",
    "    ax_pdf.set_title('Student t distribution -- PDF ($\\mu$ = {}, $\\sigma$ = {})'.format(mu,sigma), fontsize=19)\n",
    "    ax_pdf.legend(fontsize=15)\n",
    "    ax_cdf.set_title('Student t distribution -- CDF ($\\mu$ = {}, $\\sigma$ = {})'.format(mu,sigma), fontsize=19)\n",
    "    ax_cdf.legend(fontsize=15, loc='lower right')\n",
    "    fig.tight_layout()\n",
    "demo_studentT()"
   ]
  },
  {
   "cell_type": "markdown",
   "metadata": {},
   "source": [
    "Next we write a function which fits the student t distribution to a dataset, using moment estimates for the mean and standard deviation as input."
   ]
  },
  {
   "cell_type": "code",
   "execution_count": 57,
   "metadata": {},
   "outputs": [],
   "source": [
    "def fit2StudentT(X, nu0):\n",
    "    \"\"\"\n",
    "    fit2StudentT: ML fit to a Student's t distribution\n",
    "    INPUT:\n",
    "             X : Sample\n",
    "           nu0 : Seed for the degrees of freedom\n",
    "\n",
    "    OUTPUT:\n",
    "     [mu,sigma,nu] : Parameters of the Student's t distribution from ML fit\n",
    "          modelPdf : Fitted pdf\n",
    "          modelPdf : Fitted cdf\n",
    "          modelPdf : Fitted inv\n",
    "    \"\"\"\n",
    "\n",
    "    ## Seed for mu,sigma determined from moment matching\n",
    "    mu0    = np.mean(X);                        # match first moment\n",
    "    sigma0 = np.sqrt(np.var(X) * (nu0 - 2)/nu0) # match second moment\n",
    "\n",
    "    ## ML fit \n",
    "    def PDFhandle(X, args):\n",
    "        _mu, _sigma, _nu = args\n",
    "        return locationScaleTpdf(X, _mu, _sigma, _nu)\n",
    "        \n",
    "    LL, argsout = fit2pdf(X, PDFhandle, [mu0, sigma0, nu0])\n",
    "    mu, sigma, nu = argsout\n",
    "    \n",
    "    ## Model pdf, cdf and inv\n",
    "    modelPdf = lambda x: locationScaleTpdf(x, mu, sigma, nu)\n",
    "    modelCdf = lambda x: locationScaleTcdf(x, mu, sigma, nu)\n",
    "    modelInv = lambda p: locationScaleTinv(p, mu, sigma, nu)\n",
    "    return [mu, sigma, nu], modelPdf, modelCdf, modelInv"
   ]
  },
  {
   "cell_type": "markdown",
   "metadata": {},
   "source": [
    "An example"
   ]
  },
  {
   "cell_type": "code",
   "execution_count": 58,
   "metadata": {},
   "outputs": [
    {
     "ename": "TypeError",
     "evalue": "'numpy.float64' object cannot be interpreted as an index",
     "output_type": "error",
     "traceback": [
      "\u001b[0;31m---------------------------------------------------------------------------\u001b[0m",
      "\u001b[0;31mTypeError\u001b[0m                                 Traceback (most recent call last)",
      "\u001b[0;32m<ipython-input-58-93655e2077c6>\u001b[0m in \u001b[0;36m<module>\u001b[0;34m()\u001b[0m\n\u001b[1;32m     16\u001b[0m     \u001b[0;32mprint\u001b[0m \u001b[0;34m\"Std: \"\u001b[0m\u001b[0;34m,\u001b[0m \u001b[0mnp\u001b[0m\u001b[0;34m.\u001b[0m\u001b[0mround\u001b[0m\u001b[0;34m(\u001b[0m\u001b[0mmle_sigma\u001b[0m\u001b[0;34m,\u001b[0m \u001b[0;36m5\u001b[0m\u001b[0;34m)\u001b[0m\u001b[0;34m,\u001b[0m \u001b[0msigma\u001b[0m\u001b[0;34m\u001b[0m\u001b[0m\n\u001b[1;32m     17\u001b[0m     \u001b[0;32mprint\u001b[0m \u001b[0;34m\"DF:  \"\u001b[0m\u001b[0;34m,\u001b[0m \u001b[0mnp\u001b[0m\u001b[0;34m.\u001b[0m\u001b[0mround\u001b[0m\u001b[0;34m(\u001b[0m\u001b[0mmle_nu\u001b[0m\u001b[0;34m,\u001b[0m \u001b[0;36m5\u001b[0m\u001b[0;34m)\u001b[0m\u001b[0;34m,\u001b[0m \u001b[0mnu\u001b[0m\u001b[0;34m\u001b[0m\u001b[0m\n\u001b[0;32m---> 18\u001b[0;31m \u001b[0mstudentFitExample\u001b[0m\u001b[0;34m(\u001b[0m\u001b[0;34m)\u001b[0m\u001b[0;34m\u001b[0m\u001b[0m\n\u001b[0m",
      "\u001b[0;32m<ipython-input-58-93655e2077c6>\u001b[0m in \u001b[0;36mstudentFitExample\u001b[0;34m()\u001b[0m\n\u001b[1;32m      5\u001b[0m     \u001b[0mM\u001b[0m \u001b[0;34m=\u001b[0m \u001b[0;36m1e5\u001b[0m\u001b[0;34m\u001b[0m\u001b[0m\n\u001b[1;32m      6\u001b[0m     \u001b[0;31m## Draw M samples\u001b[0m\u001b[0;34m\u001b[0m\u001b[0;34m\u001b[0m\u001b[0m\n\u001b[0;32m----> 7\u001b[0;31m     \u001b[0mX\u001b[0m \u001b[0;34m=\u001b[0m \u001b[0mmu\u001b[0m \u001b[0;34m+\u001b[0m \u001b[0msigma\u001b[0m \u001b[0;34m*\u001b[0m \u001b[0mtdist\u001b[0m\u001b[0;34m.\u001b[0m\u001b[0mrvs\u001b[0m\u001b[0;34m(\u001b[0m\u001b[0mnu\u001b[0m\u001b[0;34m,\u001b[0m \u001b[0msize\u001b[0m\u001b[0;34m=\u001b[0m\u001b[0;34m(\u001b[0m\u001b[0;36m1e5\u001b[0m\u001b[0;34m)\u001b[0m\u001b[0;34m)\u001b[0m\u001b[0;34m\u001b[0m\u001b[0m\n\u001b[0m\u001b[1;32m      8\u001b[0m \u001b[0;34m\u001b[0m\u001b[0m\n\u001b[1;32m      9\u001b[0m     \u001b[0mnu0\u001b[0m \u001b[0;34m=\u001b[0m \u001b[0;36m5\u001b[0m\u001b[0;34m\u001b[0m\u001b[0m\n",
      "\u001b[0;32m/usr/local/lib/python2.7/site-packages/scipy/stats/_distn_infrastructure.pyc\u001b[0m in \u001b[0;36mrvs\u001b[0;34m(self, *args, **kwds)\u001b[0m\n\u001b[1;32m    952\u001b[0m         \u001b[0;31m# by _rvs().\u001b[0m\u001b[0;34m\u001b[0m\u001b[0;34m\u001b[0m\u001b[0m\n\u001b[1;32m    953\u001b[0m         \u001b[0mself\u001b[0m\u001b[0;34m.\u001b[0m\u001b[0m_size\u001b[0m \u001b[0;34m=\u001b[0m \u001b[0msize\u001b[0m\u001b[0;34m\u001b[0m\u001b[0m\n\u001b[0;32m--> 954\u001b[0;31m         \u001b[0mvals\u001b[0m \u001b[0;34m=\u001b[0m \u001b[0mself\u001b[0m\u001b[0;34m.\u001b[0m\u001b[0m_rvs\u001b[0m\u001b[0;34m(\u001b[0m\u001b[0;34m*\u001b[0m\u001b[0margs\u001b[0m\u001b[0;34m)\u001b[0m\u001b[0;34m\u001b[0m\u001b[0m\n\u001b[0m\u001b[1;32m    955\u001b[0m \u001b[0;34m\u001b[0m\u001b[0m\n\u001b[1;32m    956\u001b[0m         \u001b[0mvals\u001b[0m \u001b[0;34m=\u001b[0m \u001b[0mvals\u001b[0m \u001b[0;34m*\u001b[0m \u001b[0mscale\u001b[0m \u001b[0;34m+\u001b[0m \u001b[0mloc\u001b[0m\u001b[0;34m\u001b[0m\u001b[0m\n",
      "\u001b[0;32m/usr/local/lib/python2.7/site-packages/scipy/stats/_continuous_distns.pyc\u001b[0m in \u001b[0;36m_rvs\u001b[0;34m(self, df)\u001b[0m\n\u001b[1;32m   3830\u001b[0m     \"\"\"\n\u001b[1;32m   3831\u001b[0m     \u001b[0;32mdef\u001b[0m \u001b[0m_rvs\u001b[0m\u001b[0;34m(\u001b[0m\u001b[0mself\u001b[0m\u001b[0;34m,\u001b[0m \u001b[0mdf\u001b[0m\u001b[0;34m)\u001b[0m\u001b[0;34m:\u001b[0m\u001b[0;34m\u001b[0m\u001b[0m\n\u001b[0;32m-> 3832\u001b[0;31m         \u001b[0;32mreturn\u001b[0m \u001b[0mself\u001b[0m\u001b[0;34m.\u001b[0m\u001b[0m_random_state\u001b[0m\u001b[0;34m.\u001b[0m\u001b[0mstandard_t\u001b[0m\u001b[0;34m(\u001b[0m\u001b[0mdf\u001b[0m\u001b[0;34m,\u001b[0m \u001b[0msize\u001b[0m\u001b[0;34m=\u001b[0m\u001b[0mself\u001b[0m\u001b[0;34m.\u001b[0m\u001b[0m_size\u001b[0m\u001b[0;34m)\u001b[0m\u001b[0;34m\u001b[0m\u001b[0m\n\u001b[0m\u001b[1;32m   3833\u001b[0m \u001b[0;34m\u001b[0m\u001b[0m\n\u001b[1;32m   3834\u001b[0m     \u001b[0;32mdef\u001b[0m \u001b[0m_pdf\u001b[0m\u001b[0;34m(\u001b[0m\u001b[0mself\u001b[0m\u001b[0;34m,\u001b[0m \u001b[0mx\u001b[0m\u001b[0;34m,\u001b[0m \u001b[0mdf\u001b[0m\u001b[0;34m)\u001b[0m\u001b[0;34m:\u001b[0m\u001b[0;34m\u001b[0m\u001b[0m\n",
      "\u001b[0;32mmtrand.pyx\u001b[0m in \u001b[0;36mmtrand.RandomState.standard_t (numpy/random/mtrand/mtrand.c:25966)\u001b[0;34m()\u001b[0m\n",
      "\u001b[0;32mmtrand.pyx\u001b[0m in \u001b[0;36mmtrand.cont1_array_sc (numpy/random/mtrand/mtrand.c:6527)\u001b[0;34m()\u001b[0m\n",
      "\u001b[0;31mTypeError\u001b[0m: 'numpy.float64' object cannot be interpreted as an index"
     ]
    }
   ],
   "source": [
    "def studentFitExample():\n",
    "    mu = 3\n",
    "    sigma = 2\n",
    "    nu = 2.5\n",
    "    M = 1e5\n",
    "    ## Draw M samples\n",
    "    X = mu + sigma * tdist.rvs(nu, size=(1e5))\n",
    "    \n",
    "    nu0 = 5\n",
    "    \n",
    "    mle_args, mle_pdf, mle_cdf, mle_inv = fit2StudentT(X, nu0)\n",
    "    mle_mu, mle_sigma, mle_nu = mle_args\n",
    "    graphicalComparisonPdf(X, mle_pdf, xMin=-15, xMax=25, nBins=1000)\n",
    "    print \"Estimated parameters (MLE) vs True parameters\"\n",
    "    print \"Mean:\", np.round(mle_mu, 5), mu\n",
    "    print \"Std: \", np.round(mle_sigma, 5), sigma\n",
    "    print \"DF:  \", np.round(mle_nu, 5), nu\n",
    "studentFitExample()\n"
   ]
  },
  {
   "cell_type": "markdown",
   "metadata": {},
   "source": [
    "#### Copulas"
   ]
  },
  {
   "cell_type": "markdown",
   "metadata": {},
   "source": [
    "Recall that in Week 8 we encountered the multivariate Gaussian distribution. These multivariate distributions are characterized by (1) the marginal distribution of the random variables which are also Gaussian, and (2) a linear correlation between the different random variables which is completely captured by the covariance matrix $\\Sigma$.\n",
    "\n",
    "The multivariate Gaussian can only deal with linear correlations among its random variables. For more complex dependencies we make use of a more sophisticated object: copulas. Using copulas we can seperate the process of (1) modelling the individual assets and (2) modeling the dependencies between these assets. For an exact definition of the copula we refer to the lecture.\n",
    "\n",
    "Here we look at two different copulas: the Gaussian and the student t copulas. For simplicity we assume that in both cases the  marginal distributions are all Gaussians. \n",
    "\n",
    "We first implement a random number generator from a Gaussian copula."
   ]
  },
  {
   "cell_type": "code",
   "execution_count": 59,
   "metadata": {},
   "outputs": [],
   "source": [
    "from numpy.linalg import cholesky\n",
    "from scipy.stats import norm\n",
    "\n",
    "\n",
    "\n",
    "def gaussianCopulaRand(M, rho):\n",
    "    \"\"\"\n",
    "    gaussianCopulaRand: Generates random numbers from a Gaussian copula\n",
    "    INPUT:\n",
    "         M : size of the sample\n",
    "       rho : corelation matrix [D,D]\n",
    "\n",
    "    OUTPUT:\n",
    "         U : Sample from the copula [M,D]  \n",
    "    \"\"\"\n",
    "    \n",
    "    rho = np.asarray(rho)\n",
    "    \n",
    "    ## Dimensionality of the copula\n",
    "    D = rho.shape[0]\n",
    "    \n",
    "    ## Cholesky decomposition\n",
    "    L = cholesky(rho).T\n",
    "    \n",
    "    ## Sample from N(0, I)   [independent components]\n",
    "    X = np.random.randn(D, M)     \n",
    "    \n",
    "    ## Sample from N(0, rho) [linearly dependent components]\n",
    "    Z = np.dot(L, X)                          \n",
    "    \n",
    "    ## Gaussian copula (U[0, 1] marginals)\n",
    "    U = norm.cdf(Z)   # Matrix [D, M]\n",
    "    U = U.T           # Matrix [M, D]\n",
    "    return U\n"
   ]
  },
  {
   "cell_type": "markdown",
   "metadata": {},
   "source": [
    "For example"
   ]
  },
  {
   "cell_type": "code",
   "execution_count": 60,
   "metadata": {},
   "outputs": [
    {
     "ename": "TypeError",
     "evalue": "'float' object cannot be interpreted as an index",
     "output_type": "error",
     "traceback": [
      "\u001b[0;31m---------------------------------------------------------------------------\u001b[0m",
      "\u001b[0;31mTypeError\u001b[0m                                 Traceback (most recent call last)",
      "\u001b[0;32m<ipython-input-60-3b7bf2b9509c>\u001b[0m in \u001b[0;36m<module>\u001b[0;34m()\u001b[0m\n\u001b[1;32m     18\u001b[0m     \u001b[0max2\u001b[0m\u001b[0;34m.\u001b[0m\u001b[0mset_ylim\u001b[0m\u001b[0;34m(\u001b[0m\u001b[0;36m0\u001b[0m\u001b[0;34m,\u001b[0m\u001b[0;36m1\u001b[0m\u001b[0;34m)\u001b[0m\u001b[0;34m\u001b[0m\u001b[0m\n\u001b[1;32m     19\u001b[0m     \u001b[0max2\u001b[0m\u001b[0;34m.\u001b[0m\u001b[0mset_title\u001b[0m\u001b[0;34m(\u001b[0m\u001b[0;34m'Gaussian copula'\u001b[0m\u001b[0;34m,\u001b[0m \u001b[0mfontsize\u001b[0m\u001b[0;34m=\u001b[0m\u001b[0;36m18\u001b[0m\u001b[0;34m)\u001b[0m\u001b[0;34m\u001b[0m\u001b[0m\n\u001b[0;32m---> 20\u001b[0;31m \u001b[0mexampleGaussCopula\u001b[0m\u001b[0;34m(\u001b[0m\u001b[0;34m)\u001b[0m\u001b[0;34m\u001b[0m\u001b[0m\n\u001b[0m",
      "\u001b[0;32m<ipython-input-60-3b7bf2b9509c>\u001b[0m in \u001b[0;36mexampleGaussCopula\u001b[0;34m()\u001b[0m\n\u001b[1;32m      2\u001b[0m     \u001b[0mrho\u001b[0m \u001b[0;34m=\u001b[0m \u001b[0;34m[\u001b[0m\u001b[0;34m[\u001b[0m\u001b[0;36m1\u001b[0m\u001b[0;34m,\u001b[0m \u001b[0;36m0.8\u001b[0m\u001b[0;34m]\u001b[0m\u001b[0;34m,\u001b[0m \u001b[0;34m[\u001b[0m\u001b[0;36m0.8\u001b[0m\u001b[0;34m,\u001b[0m \u001b[0;36m1\u001b[0m\u001b[0;34m]\u001b[0m\u001b[0;34m]\u001b[0m\u001b[0;34m\u001b[0m\u001b[0m\n\u001b[1;32m      3\u001b[0m     \u001b[0mM\u001b[0m \u001b[0;34m=\u001b[0m \u001b[0;36m2e3\u001b[0m\u001b[0;34m\u001b[0m\u001b[0m\n\u001b[0;32m----> 4\u001b[0;31m     \u001b[0mU\u001b[0m \u001b[0;34m=\u001b[0m \u001b[0mgaussianCopulaRand\u001b[0m\u001b[0;34m(\u001b[0m\u001b[0mM\u001b[0m\u001b[0;34m,\u001b[0m \u001b[0mrho\u001b[0m\u001b[0;34m)\u001b[0m\u001b[0;34m\u001b[0m\u001b[0m\n\u001b[0m\u001b[1;32m      5\u001b[0m     \u001b[0mUinv\u001b[0m \u001b[0;34m=\u001b[0m \u001b[0mnorm\u001b[0m\u001b[0;34m.\u001b[0m\u001b[0mppf\u001b[0m\u001b[0;34m(\u001b[0m\u001b[0mU\u001b[0m\u001b[0;34m)\u001b[0m\u001b[0;34m.\u001b[0m\u001b[0mT\u001b[0m\u001b[0;34m\u001b[0m\u001b[0m\n\u001b[1;32m      6\u001b[0m     \u001b[0mfig\u001b[0m \u001b[0;34m=\u001b[0m \u001b[0mplt\u001b[0m\u001b[0;34m.\u001b[0m\u001b[0mfigure\u001b[0m\u001b[0;34m(\u001b[0m\u001b[0mfigsize\u001b[0m\u001b[0;34m=\u001b[0m\u001b[0;34m(\u001b[0m\u001b[0;36m8\u001b[0m\u001b[0;34m,\u001b[0m \u001b[0;36m8\u001b[0m\u001b[0;34m)\u001b[0m\u001b[0;34m)\u001b[0m\u001b[0;34m\u001b[0m\u001b[0m\n",
      "\u001b[0;32m<ipython-input-59-c20240460108>\u001b[0m in \u001b[0;36mgaussianCopulaRand\u001b[0;34m(M, rho)\u001b[0m\n\u001b[1;32m     24\u001b[0m \u001b[0;34m\u001b[0m\u001b[0m\n\u001b[1;32m     25\u001b[0m     \u001b[0;31m## Sample from N(0, I)   [independent components]\u001b[0m\u001b[0;34m\u001b[0m\u001b[0;34m\u001b[0m\u001b[0m\n\u001b[0;32m---> 26\u001b[0;31m     \u001b[0mX\u001b[0m \u001b[0;34m=\u001b[0m \u001b[0mnp\u001b[0m\u001b[0;34m.\u001b[0m\u001b[0mrandom\u001b[0m\u001b[0;34m.\u001b[0m\u001b[0mrandn\u001b[0m\u001b[0;34m(\u001b[0m\u001b[0mD\u001b[0m\u001b[0;34m,\u001b[0m \u001b[0mM\u001b[0m\u001b[0;34m)\u001b[0m\u001b[0;34m\u001b[0m\u001b[0m\n\u001b[0m\u001b[1;32m     27\u001b[0m \u001b[0;34m\u001b[0m\u001b[0m\n\u001b[1;32m     28\u001b[0m     \u001b[0;31m## Sample from N(0, rho) [linearly dependent components]\u001b[0m\u001b[0;34m\u001b[0m\u001b[0;34m\u001b[0m\u001b[0m\n",
      "\u001b[0;32mmtrand.pyx\u001b[0m in \u001b[0;36mmtrand.RandomState.randn (numpy/random/mtrand/mtrand.c:19888)\u001b[0;34m()\u001b[0m\n",
      "\u001b[0;32mmtrand.pyx\u001b[0m in \u001b[0;36mmtrand.RandomState.standard_normal (numpy/random/mtrand/mtrand.c:20413)\u001b[0;34m()\u001b[0m\n",
      "\u001b[0;32mmtrand.pyx\u001b[0m in \u001b[0;36mmtrand.cont0_array (numpy/random/mtrand/mtrand.c:6141)\u001b[0;34m()\u001b[0m\n",
      "\u001b[0;31mTypeError\u001b[0m: 'float' object cannot be interpreted as an index"
     ]
    }
   ],
   "source": [
    "def exampleGaussCopula():\n",
    "    rho = [[1, 0.8], [0.8, 1]]\n",
    "    M = 2e3\n",
    "    U = gaussianCopulaRand(M, rho)\n",
    "    Uinv = norm.ppf(U).T\n",
    "    fig = plt.figure(figsize=(8, 8))\n",
    "    ax = fig.add_subplot(121)\n",
    "    ax.scatter(Uinv[0], Uinv[1])\n",
    "    ax.set_xlim(-4, 4)\n",
    "    ax.set_ylim(-3, 3)\n",
    "    ax.set_aspect(1)\n",
    "    ax.set_title('Multivariate Gaussian', fontsize=18)\n",
    "    ax2 = fig.add_subplot(122)\n",
    "    ax2.scatter(U.T[0], U.T[1])\n",
    "    \n",
    "    ax2.set_aspect(1)\n",
    "    ax2.set_xlim(0,1)\n",
    "    ax2.set_ylim(0,1)\n",
    "    ax2.set_title('Gaussian copula', fontsize=18)\n",
    "exampleGaussCopula()"
   ]
  },
  {
   "cell_type": "markdown",
   "metadata": {},
   "source": [
    "There is clear linear correlation between the X and Y components of the sample points. To introduce non-linear correlations using copulas we need a more sophisticated construct, for instance by using a student t distribution.\n",
    "\n",
    "Here we implement such a coopula. To emphasize, the marginal distributions are still assumed to be Gaussians. It's the correlation among the different components which is described by the student t distribution."
   ]
  },
  {
   "cell_type": "code",
   "execution_count": 61,
   "metadata": {},
   "outputs": [],
   "source": [
    "from scipy.stats import t as tdist\n",
    "from scipy.stats import chi2\n",
    "\n",
    "\n",
    "\n",
    "def studentTCopulaRand(M, rho, nu):\n",
    "    \"\"\"\n",
    "    studentTCopulaRand: Generates random numbers from a Student's t copula\n",
    "\n",
    "    INPUT:\n",
    "         M : size of the sample\n",
    "       rho : corelation matrix [D,D]\n",
    "        nu : degrees of freedom\n",
    "\n",
    "    OUTPUT:\n",
    "         U : Sample from the copula [M,D]  \n",
    "%\n",
    "%% EXAMPLE:   \n",
    "%        rho = [1 0.8; 0.8 1];\n",
    "%        M = 1e4;\n",
    "%        U = studentTCopulaRand(M,rho);\n",
    "%        figure(1);\n",
    "%        plot(U(1,:),U(2,:),'.');\n",
    "    \"\"\"\n",
    "    rho = np.asarray(rho)\n",
    "    \n",
    "    ## Dimensionality of the copula\n",
    "    D = rho.shape[0] \n",
    "    \n",
    "    ## Cholesky decomposition\n",
    "    L = cholesky(rho).T\n",
    "    \n",
    "    ## Sample from N(0,I)   [independent components]\n",
    "    X = np.random.randn(D, M)\n",
    "    \n",
    "    ## Sample from N(0,rho) [linearly dependent components]\n",
    "    Z = np.dot(L, X)                       \n",
    "    \n",
    "    ## Sample from Chi2 with nu degrees of freedom\n",
    "    xi = chi2.rvs(nu, size=M)[np.newaxis, :]\n",
    "    \n",
    "    ## Student t copula (U[0,1] marginals)\n",
    "    U  = tdist.cdf(sqrt(nu) * Z / sqrt(xi), nu) # Matrix [D,M]\n",
    "    U = U.T                                     # Matrix [M,D]\n",
    "    return U\n"
   ]
  },
  {
   "cell_type": "code",
   "execution_count": 62,
   "metadata": {},
   "outputs": [
    {
     "ename": "TypeError",
     "evalue": "'float' object cannot be interpreted as an index",
     "output_type": "error",
     "traceback": [
      "\u001b[0;31m---------------------------------------------------------------------------\u001b[0m",
      "\u001b[0;31mTypeError\u001b[0m                                 Traceback (most recent call last)",
      "\u001b[0;32m<ipython-input-62-4f59f15a1211>\u001b[0m in \u001b[0;36m<module>\u001b[0;34m()\u001b[0m\n\u001b[1;32m     11\u001b[0m     \u001b[0max\u001b[0m\u001b[0;34m.\u001b[0m\u001b[0mset_aspect\u001b[0m\u001b[0;34m(\u001b[0m\u001b[0;36m1\u001b[0m\u001b[0;34m)\u001b[0m\u001b[0;34m\u001b[0m\u001b[0m\n\u001b[1;32m     12\u001b[0m     \u001b[0max\u001b[0m\u001b[0;34m.\u001b[0m\u001b[0mset_title\u001b[0m\u001b[0;34m(\u001b[0m\u001b[0;34m'Student T Copula'\u001b[0m\u001b[0;34m,\u001b[0m \u001b[0mfontsize\u001b[0m\u001b[0;34m=\u001b[0m\u001b[0;36m18\u001b[0m\u001b[0;34m)\u001b[0m\u001b[0;34m\u001b[0m\u001b[0m\n\u001b[0;32m---> 13\u001b[0;31m \u001b[0mexampleStudentCopula\u001b[0m\u001b[0;34m(\u001b[0m\u001b[0;34m)\u001b[0m\u001b[0;34m\u001b[0m\u001b[0m\n\u001b[0m",
      "\u001b[0;32m<ipython-input-62-4f59f15a1211>\u001b[0m in \u001b[0;36mexampleStudentCopula\u001b[0;34m()\u001b[0m\n\u001b[1;32m      2\u001b[0m     \u001b[0mrho\u001b[0m \u001b[0;34m=\u001b[0m \u001b[0;34m[\u001b[0m\u001b[0;34m[\u001b[0m\u001b[0;36m1\u001b[0m\u001b[0;34m,\u001b[0m \u001b[0;36m0.8\u001b[0m\u001b[0;34m]\u001b[0m\u001b[0;34m,\u001b[0m \u001b[0;34m[\u001b[0m\u001b[0;36m0.8\u001b[0m\u001b[0;34m,\u001b[0m \u001b[0;36m1\u001b[0m\u001b[0;34m]\u001b[0m\u001b[0;34m]\u001b[0m\u001b[0;34m\u001b[0m\u001b[0m\n\u001b[1;32m      3\u001b[0m     \u001b[0mM\u001b[0m \u001b[0;34m=\u001b[0m \u001b[0;36m2e3\u001b[0m\u001b[0;34m\u001b[0m\u001b[0m\n\u001b[0;32m----> 4\u001b[0;31m     \u001b[0mU\u001b[0m \u001b[0;34m=\u001b[0m \u001b[0mstudentTCopulaRand\u001b[0m\u001b[0;34m(\u001b[0m\u001b[0mM\u001b[0m\u001b[0;34m,\u001b[0m \u001b[0mrho\u001b[0m\u001b[0;34m,\u001b[0m \u001b[0;36m2\u001b[0m\u001b[0;34m)\u001b[0m\u001b[0;34m.\u001b[0m\u001b[0mT\u001b[0m\u001b[0;34m\u001b[0m\u001b[0m\n\u001b[0m\u001b[1;32m      5\u001b[0m \u001b[0;34m\u001b[0m\u001b[0m\n\u001b[1;32m      6\u001b[0m     \u001b[0mfig\u001b[0m \u001b[0;34m=\u001b[0m \u001b[0mplt\u001b[0m\u001b[0;34m.\u001b[0m\u001b[0mfigure\u001b[0m\u001b[0;34m(\u001b[0m\u001b[0mfigsize\u001b[0m\u001b[0;34m=\u001b[0m\u001b[0;34m(\u001b[0m\u001b[0;36m5\u001b[0m\u001b[0;34m,\u001b[0m \u001b[0;36m5\u001b[0m\u001b[0;34m)\u001b[0m\u001b[0;34m)\u001b[0m\u001b[0;34m\u001b[0m\u001b[0m\n",
      "\u001b[0;32m<ipython-input-61-a38ff6948365>\u001b[0m in \u001b[0;36mstudentTCopulaRand\u001b[0;34m(M, rho, nu)\u001b[0m\n\u001b[1;32m     32\u001b[0m \u001b[0;34m\u001b[0m\u001b[0m\n\u001b[1;32m     33\u001b[0m     \u001b[0;31m## Sample from N(0,I)   [independent components]\u001b[0m\u001b[0;34m\u001b[0m\u001b[0;34m\u001b[0m\u001b[0m\n\u001b[0;32m---> 34\u001b[0;31m     \u001b[0mX\u001b[0m \u001b[0;34m=\u001b[0m \u001b[0mnp\u001b[0m\u001b[0;34m.\u001b[0m\u001b[0mrandom\u001b[0m\u001b[0;34m.\u001b[0m\u001b[0mrandn\u001b[0m\u001b[0;34m(\u001b[0m\u001b[0mD\u001b[0m\u001b[0;34m,\u001b[0m \u001b[0mM\u001b[0m\u001b[0;34m)\u001b[0m\u001b[0;34m\u001b[0m\u001b[0m\n\u001b[0m\u001b[1;32m     35\u001b[0m \u001b[0;34m\u001b[0m\u001b[0m\n\u001b[1;32m     36\u001b[0m     \u001b[0;31m## Sample from N(0,rho) [linearly dependent components]\u001b[0m\u001b[0;34m\u001b[0m\u001b[0;34m\u001b[0m\u001b[0m\n",
      "\u001b[0;32mmtrand.pyx\u001b[0m in \u001b[0;36mmtrand.RandomState.randn (numpy/random/mtrand/mtrand.c:19888)\u001b[0;34m()\u001b[0m\n",
      "\u001b[0;32mmtrand.pyx\u001b[0m in \u001b[0;36mmtrand.RandomState.standard_normal (numpy/random/mtrand/mtrand.c:20413)\u001b[0;34m()\u001b[0m\n",
      "\u001b[0;32mmtrand.pyx\u001b[0m in \u001b[0;36mmtrand.cont0_array (numpy/random/mtrand/mtrand.c:6141)\u001b[0;34m()\u001b[0m\n",
      "\u001b[0;31mTypeError\u001b[0m: 'float' object cannot be interpreted as an index"
     ]
    }
   ],
   "source": [
    "def exampleStudentCopula():\n",
    "    rho = [[1, 0.8], [0.8, 1]]\n",
    "    M = 2e3\n",
    "    U = studentTCopulaRand(M, rho, 2).T\n",
    "    \n",
    "    fig = plt.figure(figsize=(5, 5))\n",
    "    ax = fig.add_subplot(111)\n",
    "    ax.scatter(U[0], U[1])\n",
    "    ax.set_xlim(0, 1)\n",
    "    ax.set_ylim(0, 1)\n",
    "    ax.set_aspect(1)\n",
    "    ax.set_title('Student T Copula', fontsize=18)\n",
    "exampleStudentCopula()"
   ]
  },
  {
   "cell_type": "markdown",
   "metadata": {},
   "source": [
    "#### Fitting a copula to a portfolio"
   ]
  },
  {
   "cell_type": "code",
   "execution_count": 63,
   "metadata": {},
   "outputs": [
    {
     "name": "stderr",
     "output_type": "stream",
     "text": [
      "/usr/local/lib/python2.7/site-packages/pandas/io/data.py:353: SymbolWarning: Failed to read symbol: 'IBM', replacing with NaN.\n",
      "  'NaN.'.format(sym), SymbolWarning)\n",
      "/usr/local/lib/python2.7/site-packages/pandas/io/data.py:353: SymbolWarning: Failed to read symbol: 'GOOGL', replacing with NaN.\n",
      "  'NaN.'.format(sym), SymbolWarning)\n"
     ]
    },
    {
     "ename": "RemoteDataError",
     "evalue": "No data fetched using '_get_hist_yahoo'",
     "output_type": "error",
     "traceback": [
      "\u001b[0;31m---------------------------------------------------------------------------\u001b[0m",
      "\u001b[0;31mRemoteDataError\u001b[0m                           Traceback (most recent call last)",
      "\u001b[0;32m<ipython-input-63-e9f64e2146b8>\u001b[0m in \u001b[0;36m<module>\u001b[0;34m()\u001b[0m\n\u001b[0;32m----> 1\u001b[0;31m \u001b[0mS\u001b[0m \u001b[0;34m=\u001b[0m \u001b[0mDataReader\u001b[0m\u001b[0;34m(\u001b[0m\u001b[0;34m[\u001b[0m\u001b[0;34m\"IBM\"\u001b[0m\u001b[0;34m,\u001b[0m \u001b[0;34m\"GOOGL\"\u001b[0m\u001b[0;34m]\u001b[0m\u001b[0;34m,\u001b[0m  \u001b[0;34m\"yahoo\"\u001b[0m\u001b[0;34m,\u001b[0m \u001b[0mdatetime\u001b[0m\u001b[0;34m(\u001b[0m\u001b[0;36m2007\u001b[0m\u001b[0;34m,\u001b[0m\u001b[0;36m7\u001b[0m\u001b[0;34m,\u001b[0m\u001b[0;36m1\u001b[0m\u001b[0;34m)\u001b[0m\u001b[0;34m,\u001b[0m \u001b[0mdatetime\u001b[0m\u001b[0;34m(\u001b[0m\u001b[0;36m2013\u001b[0m\u001b[0;34m,\u001b[0m\u001b[0;36m6\u001b[0m\u001b[0;34m,\u001b[0m\u001b[0;36m30\u001b[0m\u001b[0;34m)\u001b[0m\u001b[0;34m)\u001b[0m\u001b[0;34m[\u001b[0m\u001b[0;34m'Adj Close'\u001b[0m\u001b[0;34m]\u001b[0m\u001b[0;34m\u001b[0m\u001b[0m\n\u001b[0m",
      "\u001b[0;32m/usr/local/lib/python2.7/site-packages/pandas/io/data.pyc\u001b[0m in \u001b[0;36mDataReader\u001b[0;34m(name, data_source, start, end, retry_count, pause)\u001b[0m\n\u001b[1;32m     91\u001b[0m         return get_data_yahoo(symbols=name, start=start, end=end,\n\u001b[1;32m     92\u001b[0m                               \u001b[0madjust_price\u001b[0m\u001b[0;34m=\u001b[0m\u001b[0mFalse\u001b[0m\u001b[0;34m,\u001b[0m \u001b[0mchunksize\u001b[0m\u001b[0;34m=\u001b[0m\u001b[0;36m25\u001b[0m\u001b[0;34m,\u001b[0m\u001b[0;34m\u001b[0m\u001b[0m\n\u001b[0;32m---> 93\u001b[0;31m                               retry_count=retry_count, pause=pause)\n\u001b[0m\u001b[1;32m     94\u001b[0m     \u001b[0;32melif\u001b[0m \u001b[0mdata_source\u001b[0m \u001b[0;34m==\u001b[0m \u001b[0;34m\"google\"\u001b[0m\u001b[0;34m:\u001b[0m\u001b[0;34m\u001b[0m\u001b[0m\n\u001b[1;32m     95\u001b[0m         return get_data_google(symbols=name, start=start, end=end,\n",
      "\u001b[0;32m/usr/local/lib/python2.7/site-packages/pandas/io/data.pyc\u001b[0m in \u001b[0;36mget_data_yahoo\u001b[0;34m(symbols, start, end, retry_count, pause, adjust_price, ret_index, chunksize, interval)\u001b[0m\n\u001b[1;32m    438\u001b[0m         \u001b[0;32mraise\u001b[0m \u001b[0mValueError\u001b[0m\u001b[0;34m(\u001b[0m\u001b[0;34m\"Invalid interval: valid values are 'd', 'w', 'm' and 'v'\"\u001b[0m\u001b[0;34m)\u001b[0m\u001b[0;34m\u001b[0m\u001b[0m\n\u001b[1;32m    439\u001b[0m     return _get_data_from(symbols, start, end, interval, retry_count, pause,\n\u001b[0;32m--> 440\u001b[0;31m                           adjust_price, ret_index, chunksize, 'yahoo')\n\u001b[0m\u001b[1;32m    441\u001b[0m \u001b[0;34m\u001b[0m\u001b[0m\n\u001b[1;32m    442\u001b[0m \u001b[0;34m\u001b[0m\u001b[0m\n",
      "\u001b[0;32m/usr/local/lib/python2.7/site-packages/pandas/io/data.pyc\u001b[0m in \u001b[0;36m_get_data_from\u001b[0;34m(symbols, start, end, interval, retry_count, pause, adjust_price, ret_index, chunksize, source)\u001b[0m\n\u001b[1;32m    386\u001b[0m     \u001b[0;32melse\u001b[0m\u001b[0;34m:\u001b[0m\u001b[0;34m\u001b[0m\u001b[0m\n\u001b[1;32m    387\u001b[0m         hist_data = _dl_mult_symbols(symbols, start, end, interval, chunksize,\n\u001b[0;32m--> 388\u001b[0;31m                                      retry_count, pause, src_fn)\n\u001b[0m\u001b[1;32m    389\u001b[0m     \u001b[0;32mif\u001b[0m \u001b[0msource\u001b[0m\u001b[0;34m.\u001b[0m\u001b[0mlower\u001b[0m\u001b[0;34m(\u001b[0m\u001b[0;34m)\u001b[0m \u001b[0;34m==\u001b[0m \u001b[0;34m'yahoo'\u001b[0m\u001b[0;34m:\u001b[0m\u001b[0;34m\u001b[0m\u001b[0m\n\u001b[1;32m    390\u001b[0m         \u001b[0;32mif\u001b[0m \u001b[0mret_index\u001b[0m\u001b[0;34m:\u001b[0m\u001b[0;34m\u001b[0m\u001b[0m\n",
      "\u001b[0;32m/usr/local/lib/python2.7/site-packages/pandas/io/data.pyc\u001b[0m in \u001b[0;36m_dl_mult_symbols\u001b[0;34m(symbols, start, end, interval, chunksize, retry_count, pause, method)\u001b[0m\n\u001b[1;32m    356\u001b[0m     \u001b[0;32mif\u001b[0m \u001b[0mlen\u001b[0m\u001b[0;34m(\u001b[0m\u001b[0mpassed\u001b[0m\u001b[0;34m)\u001b[0m \u001b[0;34m==\u001b[0m \u001b[0;36m0\u001b[0m\u001b[0;34m:\u001b[0m\u001b[0;34m\u001b[0m\u001b[0m\n\u001b[1;32m    357\u001b[0m         raise RemoteDataError(\"No data fetched using \"\n\u001b[0;32m--> 358\u001b[0;31m                               \"{0!r}\".format(method.__name__))\n\u001b[0m\u001b[1;32m    359\u001b[0m     \u001b[0;32mtry\u001b[0m\u001b[0;34m:\u001b[0m\u001b[0;34m\u001b[0m\u001b[0m\n\u001b[1;32m    360\u001b[0m         \u001b[0;32mif\u001b[0m \u001b[0mlen\u001b[0m\u001b[0;34m(\u001b[0m\u001b[0mstocks\u001b[0m\u001b[0;34m)\u001b[0m \u001b[0;34m>\u001b[0m \u001b[0;36m0\u001b[0m \u001b[0;32mand\u001b[0m \u001b[0mlen\u001b[0m\u001b[0;34m(\u001b[0m\u001b[0mfailed\u001b[0m\u001b[0;34m)\u001b[0m \u001b[0;34m>\u001b[0m \u001b[0;36m0\u001b[0m \u001b[0;32mand\u001b[0m \u001b[0mlen\u001b[0m\u001b[0;34m(\u001b[0m\u001b[0mpassed\u001b[0m\u001b[0;34m)\u001b[0m \u001b[0;34m>\u001b[0m \u001b[0;36m0\u001b[0m\u001b[0;34m:\u001b[0m\u001b[0;34m\u001b[0m\u001b[0m\n",
      "\u001b[0;31mRemoteDataError\u001b[0m: No data fetched using '_get_hist_yahoo'"
     ]
    }
   ],
   "source": [
    "S = DataReader([\"IBM\", \"GOOGL\"],  \"yahoo\", datetime(2007,7,1), datetime(2013,6,30))['Adj Close']"
   ]
  },
  {
   "cell_type": "code",
   "execution_count": 64,
   "metadata": {},
   "outputs": [],
   "source": [
    "def demo_multivariateModels(portfolio):\n",
    "    \n",
    "    portfolioReturn = np.log(portfolio / portfolio.shift(1))\n",
    "    portfolioReturn.dropna(inplace=True)\n",
    "    portfolioReturn.columns = ['r_' + s  for s in portfolio.columns]\n",
    "    \n",
    "    ## Seed for optimization of degrees of freedom\n",
    "    nu0 = 5\n",
    "    \n",
    "    ## Create a dataframe which stores all fitted parameters and statistical functions\n",
    "    ## Note that the columns PDF, CDF and INV store functions\n",
    "    modelDF = pd.DataFrame(index=portfolioReturn.columns, columns=['mean', 'sigma', 'nu', 'PDF', 'CDF', 'INV'])\n",
    "    param = ['mean', 'sigma', 'nu']\n",
    "    \n",
    "    for s in portfolioReturn.columns:\n",
    "        param_fit, modelDF.loc[s, 'PDF'], modelDF.loc[s, 'CDF'], modelDF.loc[s, 'INV'] = \\\n",
    "            fit2StudentT(portfolioReturn[s], nu0)\n",
    "        modelDF.loc[s, param] = param_fit\n",
    "    \n",
    "    print \"Fitted the Student T distributio to the log returns of each stock in the portfolio.\"\n",
    "    print \"Found the following parameters:\"\n",
    "    print modelDF[param]\n",
    "    print    \n",
    "    print \"=\" * 30\n",
    "    print \n",
    "    print \"Plotting PDF's fitted to asset returns\"\n",
    "    \n",
    "    \n",
    "    fig = plt.figure()\n",
    "    \n",
    "    nSubFigs = len(portfolioReturn.columns)\n",
    "    ## Transform to U[0, 1] marginals\n",
    "    ## And plot fitted PDF's\n",
    "    logReturnColumns = portfolioReturn.columns\n",
    "    for n, s in enumerate(logReturnColumns):\n",
    "        portfolioReturn['u' + s[1:]] = modelDF.loc[s, 'CDF'](portfolioReturn[s])\n",
    "        ax = fig.add_subplot(nSubFigs, 1, n+1)\n",
    "        graphicalComparisonPdf(portfolioReturn[s].values, modelDF.loc[s, 'PDF'],axes_object=ax, nBins=100)\n",
    "        ax.set_title('Fitted PDF to asset: ' + s)\n",
    "    transformedReturnColumns = portfolioReturn.columns[len(logReturnColumns):]\n",
    "    plt.tight_layout()\n",
    "    plt.show()\n",
    "    print\n",
    "    print \"=\" * 30\n",
    "    print\n",
    "    \n",
    "    print \"Joint distribution of the first two assets (historic and simulated).\"\n",
    "\n",
    "    fig = plt.figure(figsize=(10,10))\n",
    "    ax= fig.add_subplot(221)\n",
    "    n1, n2 = portfolioReturn.columns[0], portfolioReturn.columns[1]\n",
    "    print n1 + ' vs ' + n2\n",
    "    print \n",
    "    print\n",
    "    ax.scatter(portfolioReturn[n1], portfolioReturn[n2])\n",
    "    ax.set_xlim(-.15, .15)\n",
    "    ax.set_ylim(-.15, .15)\n",
    "    ax.set_aspect(1)\n",
    "    ax.set_title(\"Historic joint distribution\")\n",
    "        \n",
    "    ## What copula best fits this joint distrubtion? \n",
    "    ## We first try the Gaussian copula, with Gaussian marginal\n",
    "    M = portfolioReturn.shape[0]\n",
    "    \n",
    "    mu = portfolioReturn[logReturnColumns[:2]].mean()\n",
    "    Sigma = portfolioReturn[logReturnColumns[:2]].cov()\n",
    "    Z = multivariateGaussianRand(M, mu, Sigma)\n",
    "    \n",
    "    ax = fig.add_subplot(222)\n",
    "    ax.scatter(Z.T[0], Z.T[1])\n",
    "    ax.set_xlim(-.15, .15)\n",
    "    ax.set_ylim(-.15, .15)\n",
    "    ax.set_aspect(1)\n",
    "    ax.set_title(\"Gaussian copula + Gaussian marginals\")\n",
    "    \n",
    "\n",
    "    ## Next look at a Gaussian copula with student t marginals\n",
    "    _inv = (norm.ppf(portfolioReturn[transformedReturnColumns[:2]]))\n",
    "    _corr = np.corrcoef(_inv.T[0], _inv.T[1])\n",
    "    \n",
    "    # Generate from gaussian copula with implied correlation\n",
    "    Z = gaussianCopulaRand(M, _corr)\n",
    "    \n",
    "    # Generate sample points using implied CDF inverse\n",
    "    z1 = modelDF.loc[n1, 'INV'](Z.T[0])\n",
    "    z2 = modelDF.loc[n2, 'INV'](Z.T[1])\n",
    "    ax = fig.add_subplot(223)\n",
    "    ax.scatter(z1, z2)\n",
    "    ax.set_xlim(-.15, .15)\n",
    "    ax.set_ylim(-.15, .15)\n",
    "    ax.set_aspect(1)\n",
    "    ax.set_title(\"Gaussian copula + Student marginals\")\n",
    "    \n",
    "    ## The final one is a student t copula with student t marginals\n",
    "    ## We did not treat the ML estimates for the parameters of the student t copula\n",
    "    ## so we will use some given estimates instead\n",
    "    \n",
    "    rho = [[1, .55], [.55, 1]]\n",
    "    nu = 2.4\n",
    "    \n",
    "    U = studentTCopulaRand(M, rho, nu)\n",
    "    u1 = modelDF.loc[n1, 'INV'](U.T[0])\n",
    "    u2 = modelDF.loc[n2, 'INV'](U.T[1])\n",
    "    ax = fig.add_subplot(224)\n",
    "    ax.scatter(u1, u2)\n",
    "    ax.set_xlim(-.15, .15)\n",
    "    ax.set_ylim(-.15, .15)\n",
    "    ax.set_aspect(1)\n",
    "    ax.set_title(\"Student copula + Student marginals\")\n",
    "    \n",
    "    \n",
    "    plt.show()"
   ]
  },
  {
   "cell_type": "code",
   "execution_count": 65,
   "metadata": {},
   "outputs": [
    {
     "name": "stdout",
     "output_type": "stream",
     "text": [
      "Fitted the Student T distributio to the log returns of each stock in the portfolio.\n",
      "Found the following parameters:\n",
      "                    mean       sigma       nu\n",
      "r_Open       0.000859783    0.010331  3.93203\n",
      "r_High       0.000480037   0.0082349  3.18293\n",
      "r_Low         0.00100426  0.00916476  3.28763\n",
      "r_Close      0.000712776  0.00989043  3.55597\n",
      "r_Adj Close  0.000712776  0.00989043  3.55597\n",
      "r_Volume     -0.00855215    0.298692  7.50711\n",
      "\n",
      "==============================\n",
      "\n",
      "Plotting PDF's fitted to asset returns\n"
     ]
    },
    {
     "data": {
      "image/png": "[encoded data removed]",
      "text/plain": [
       "<matplotlib.figure.Figure at 0x1088a31d0>"
      ]
     },
     "metadata": {},
     "output_type": "display_data"
    },
    {
     "name": "stdout",
     "output_type": "stream",
     "text": [
      "\n",
      "==============================\n",
      "\n",
      "Joint distribution of the first two assets (historic and simulated).\n",
      "r_Open vs r_High\n",
      "\n",
      "\n"
     ]
    },
    {
     "ename": "NameError",
     "evalue": "global name 'sqrt' is not defined",
     "output_type": "error",
     "traceback": [
      "\u001b[0;31m---------------------------------------------------------------------------\u001b[0m",
      "\u001b[0;31mNameError\u001b[0m                                 Traceback (most recent call last)",
      "\u001b[0;32m<ipython-input-65-76dbbab1934f>\u001b[0m in \u001b[0;36m<module>\u001b[0;34m()\u001b[0m\n\u001b[0;32m----> 1\u001b[0;31m \u001b[0mdemo_multivariateModels\u001b[0m\u001b[0;34m(\u001b[0m\u001b[0mS\u001b[0m\u001b[0;34m)\u001b[0m\u001b[0;34m\u001b[0m\u001b[0m\n\u001b[0m",
      "\u001b[0;32m<ipython-input-64-cf968431fba4>\u001b[0m in \u001b[0;36mdemo_multivariateModels\u001b[0;34m(portfolio)\u001b[0m\n\u001b[1;32m     98\u001b[0m     \u001b[0mnu\u001b[0m \u001b[0;34m=\u001b[0m \u001b[0;36m2.4\u001b[0m\u001b[0;34m\u001b[0m\u001b[0m\n\u001b[1;32m     99\u001b[0m \u001b[0;34m\u001b[0m\u001b[0m\n\u001b[0;32m--> 100\u001b[0;31m     \u001b[0mU\u001b[0m \u001b[0;34m=\u001b[0m \u001b[0mstudentTCopulaRand\u001b[0m\u001b[0;34m(\u001b[0m\u001b[0mM\u001b[0m\u001b[0;34m,\u001b[0m \u001b[0mrho\u001b[0m\u001b[0;34m,\u001b[0m \u001b[0mnu\u001b[0m\u001b[0;34m)\u001b[0m\u001b[0;34m\u001b[0m\u001b[0m\n\u001b[0m\u001b[1;32m    101\u001b[0m     \u001b[0mu1\u001b[0m \u001b[0;34m=\u001b[0m \u001b[0mmodelDF\u001b[0m\u001b[0;34m.\u001b[0m\u001b[0mloc\u001b[0m\u001b[0;34m[\u001b[0m\u001b[0mn1\u001b[0m\u001b[0;34m,\u001b[0m \u001b[0;34m'INV'\u001b[0m\u001b[0;34m]\u001b[0m\u001b[0;34m(\u001b[0m\u001b[0mU\u001b[0m\u001b[0;34m.\u001b[0m\u001b[0mT\u001b[0m\u001b[0;34m[\u001b[0m\u001b[0;36m0\u001b[0m\u001b[0;34m]\u001b[0m\u001b[0;34m)\u001b[0m\u001b[0;34m\u001b[0m\u001b[0m\n\u001b[1;32m    102\u001b[0m     \u001b[0mu2\u001b[0m \u001b[0;34m=\u001b[0m \u001b[0mmodelDF\u001b[0m\u001b[0;34m.\u001b[0m\u001b[0mloc\u001b[0m\u001b[0;34m[\u001b[0m\u001b[0mn2\u001b[0m\u001b[0;34m,\u001b[0m \u001b[0;34m'INV'\u001b[0m\u001b[0;34m]\u001b[0m\u001b[0;34m(\u001b[0m\u001b[0mU\u001b[0m\u001b[0;34m.\u001b[0m\u001b[0mT\u001b[0m\u001b[0;34m[\u001b[0m\u001b[0;36m1\u001b[0m\u001b[0;34m]\u001b[0m\u001b[0;34m)\u001b[0m\u001b[0;34m\u001b[0m\u001b[0m\n",
      "\u001b[0;32m<ipython-input-61-a38ff6948365>\u001b[0m in \u001b[0;36mstudentTCopulaRand\u001b[0;34m(M, rho, nu)\u001b[0m\n\u001b[1;32m     41\u001b[0m \u001b[0;34m\u001b[0m\u001b[0m\n\u001b[1;32m     42\u001b[0m     \u001b[0;31m## Student t copula (U[0,1] marginals)\u001b[0m\u001b[0;34m\u001b[0m\u001b[0;34m\u001b[0m\u001b[0m\n\u001b[0;32m---> 43\u001b[0;31m     \u001b[0mU\u001b[0m  \u001b[0;34m=\u001b[0m \u001b[0mtdist\u001b[0m\u001b[0;34m.\u001b[0m\u001b[0mcdf\u001b[0m\u001b[0;34m(\u001b[0m\u001b[0msqrt\u001b[0m\u001b[0;34m(\u001b[0m\u001b[0mnu\u001b[0m\u001b[0;34m)\u001b[0m \u001b[0;34m*\u001b[0m \u001b[0mZ\u001b[0m \u001b[0;34m/\u001b[0m \u001b[0msqrt\u001b[0m\u001b[0;34m(\u001b[0m\u001b[0mxi\u001b[0m\u001b[0;34m)\u001b[0m\u001b[0;34m,\u001b[0m \u001b[0mnu\u001b[0m\u001b[0;34m)\u001b[0m \u001b[0;31m# Matrix [D,M]\u001b[0m\u001b[0;34m\u001b[0m\u001b[0m\n\u001b[0m\u001b[1;32m     44\u001b[0m     \u001b[0mU\u001b[0m \u001b[0;34m=\u001b[0m \u001b[0mU\u001b[0m\u001b[0;34m.\u001b[0m\u001b[0mT\u001b[0m                                     \u001b[0;31m# Matrix [M,D]\u001b[0m\u001b[0;34m\u001b[0m\u001b[0m\n\u001b[1;32m     45\u001b[0m     \u001b[0;32mreturn\u001b[0m \u001b[0mU\u001b[0m\u001b[0;34m\u001b[0m\u001b[0m\n",
      "\u001b[0;31mNameError\u001b[0m: global name 'sqrt' is not defined"
     ]
    },
    {
     "data": {
      "image/png": "[encoded data removed]",
      "text/plain": [
       "<matplotlib.figure.Figure at 0x10ab36590>"
      ]
     },
     "metadata": {},
     "output_type": "display_data"
    }
   ],
   "source": [
    "demo_multivariateModels(S)"
   ]
  },
  {
   "cell_type": "markdown",
   "metadata": {},
   "source": [
    "A Gaussian model for the stock typically underestimates the fat tails of the asset returns. A Gaussian copula only takes into account linear correlation among the asset, which again underestimates high ''tail'' events in the joint distribution. The student t copula and student t marginals model this much better. "
   ]
  },
  {
   "cell_type": "markdown",
   "metadata": {},
   "source": [
    "#### Value-at-Risk"
   ]
  },
  {
   "cell_type": "markdown",
   "metadata": {},
   "source": [
    "We finally arrive at a risk measure: the Value-at-Risk (VaR). Imagine we have some portfolio of assets. The VaR is then a method to quantify the level of financial risk of this portfolio due to e.g. changes in the market (market risk). A common definition of VaR is: what is the maximum loss of the portfolio, over a fixed timeframe, at a fixed confidence interval $\\alpha$.\n",
    "\n",
    "So suppose we have some model for the return of the portfolio. This can be based on historical data, or some assumptions on the underlying distribution of returns. Using this model we can estimate the distribution of possible returns for the portfolio over a fixed timeframe (e.g. the distribution of returns 10 days from now). The 5% VaR is then the worst possible return we can expect with 95% confidence. Put differently, it is the return that corresponds to the 5% quantile of the underlying model for that particular time horizon.\n",
    "\n",
    "The VaR is an example of a non-coherent measure: if we have two portfolios with each its own VaR, then the VaR of the combined portfolio is in general not equal to the sum of the individual VaR (or a simple combination thereof).\n",
    "\n",
    "A related risk measure is the Estimated Shortfall (ES). It is the average loss for losses larger larger than the VaR.\n",
    "\n",
    "We now compute the VaR of a portfolio of stocks using two methods: Historical and Monte Carlo."
   ]
  },
  {
   "cell_type": "code",
   "execution_count": 66,
   "metadata": {},
   "outputs": [],
   "source": [
    "def simulateLossMC(logReturns, S0, priceEuroCall, priceAsianCall):\n",
    "    nu0 = 5  # seed for estimating d.o.f.\n",
    "    modelDF = pd.DataFrame(index=logReturns.columns, columns=['mean', 'sigma', 'nu', \n",
    "                                                              'PDF', 'CDF', 'INV'])\n",
    "    # Fit student t distribution\n",
    "    for n in logReturns.columns:\n",
    "        params, modelDF.loc[n, 'PDF'], modelDF.loc[n, 'CDF'], modelDF.loc[n, 'INV'] = fit2StudentT(logReturns[n], nu0)\n",
    "        modelDF.loc[n, ['mean', 'sigma', 'nu']] = params\n",
    "        \n",
    "    \n",
    "    # Transform to U[0,1] marginals\n",
    "    u_margin = pd.DataFrame(index=logReturns.index, columns=[], dtype=np.float)\n",
    "    for n in logReturns.columns:\n",
    "        u_margin[n] = modelDF.loc[n, 'CDF'](logReturns[n])\n",
    "        \n",
    "    # Estimate correlation for Gaussin copula\n",
    "    n1, n2 = u_margin.columns[0], u_margin.columns[1]\n",
    "    rho = np.corrcoef(modelDF.loc[n1, 'INV'](u_margin[n1]), modelDF.loc[n2, 'INV'](u_margin[n2]))\n",
    "    \n",
    "    \n",
    "    # Simulation time!\n",
    "    # Generate samples from estimated copula\n",
    "    M = 5e4\n",
    "    U = gaussianCopulaRand(M, rho)\n",
    "    \n",
    "    simulated_price = pd.DataFrame(index=np.arange(M), \n",
    "                             columns=logReturns.columns,\n",
    "                             dtype=np.float)\n",
    "    for i, n in enumerate([n1, n2]):\n",
    "        simulated_price[n] = S0[n] * np.exp( modelDF.loc[n, 'INV'](U[:,i]) )\n",
    "    \n",
    "    # Having generated different simulations we now compute the corresponding option values\n",
    "    simulated_price[\"IBM_call\"] = priceEuroCall(simulated_price[\"IBM\"])\n",
    "    simulated_price[\"GOOGL_asianCallAM\"] = priceEuroCall(simulated_price[\"IBM\"])\n",
    "    \n",
    "    return simulated_price"
   ]
  },
  {
   "cell_type": "code",
   "execution_count": 67,
   "metadata": {},
   "outputs": [],
   "source": [
    "bootstrapindices = np.random.randint(0, 10, size=10)"
   ]
  },
  {
   "cell_type": "code",
   "execution_count": 68,
   "metadata": {},
   "outputs": [],
   "source": [
    "def simulateLossHistoric(logReturns, S0, priceEuroCall, priceAsianCall):\n",
    "    M = 1e3\n",
    "    \n",
    "    bootstrapindices = np.random.randint(0, logReturns.shape[0], size=M)\n",
    "\n",
    "    simulated_price = pd.DataFrame(index=np.arange(M), \n",
    "                             columns=logReturns.columns,\n",
    "                             dtype=np.float)\n",
    "    for n in logReturns.columns:\n",
    "        simulated_price[n] = S0[n] * np.exp( logReturn.iloc[bootstrapindices].values )\n",
    "    \n",
    "    \n",
    "    simulated_price[\"IBM_call\"] = priceEuroCall(simulated_price[\"IBM\"])\n",
    "    simulated_price[\"GOOGL_asianCallAM\"] = priceEuroCall(simulated_price[\"IBM\"])\n",
    "    return simulated_price\n",
    "    "
   ]
  },
  {
   "cell_type": "markdown",
   "metadata": {},
   "source": [
    "Next we will compute two risk measures of a portfolio consisting of IBM and Google stock, IBM call options and Google Asian call options (arithmetic mean). The functions to compute these options were implemented in week 8, so we will simply import them here.\n",
    "\n",
    "To compute the risk measures we need a distribution of the expected losses (or profits) over a given time horizon. To obtain this distribution we simulate the assets in the portfolio over the given time horizon using either Monte Carlo or the historic approach. With these simulated portfolios we then compute the loss for each simulated portfolio, and from it construct a distribution of potential losses over the given time horizon. Finally, we compute the desired risk measues."
   ]
  },
  {
   "cell_type": "code",
   "execution_count": 72,
   "metadata": {
    "collapsed": true
   },
   "outputs": [],
   "source": [
    "def priceEuropeanCall(S0, K, r, T, sigma):\n",
    "    \"\"\"\n",
    "    Price of a European call option in the Black-Scholes model\n",
    "    \n",
    "    INPUT:\n",
    "       S0 : Initial value of the underlying asset\n",
    "        K : Strike \n",
    "        r : Risk-free interest rate \n",
    "        T : Time to expiry \n",
    "    sigma : Volatility \n",
    "    *args : extra arguments can be passed, but are not used\n",
    "    OUTPUT:\n",
    "    price : Price of the option in the Black-Scholes model  \n",
    "    \"\"\"\n",
    "    \n",
    "    discountedStrike = np.exp(-r * T) * K\n",
    "    totalVolatility = sigma * np.sqrt(T)\n",
    "    \n",
    "    d_minus = np.log(S0 / discountedStrike) / totalVolatility - .5 * totalVolatility\n",
    "    d_plus = d_minus + totalVolatility\n",
    "    \n",
    "    # The extra zero in the return is the variance in price, which is of course zero. This way the\n",
    "    # function behaves similar to the Monte Carlo methods defined below which have non-zero variance\n",
    "    return S0 * norm.cdf(d_plus) - discountedStrike * norm.cdf(d_minus)"
   ]
  },
  {
   "cell_type": "code",
   "execution_count": 74,
   "metadata": {
    "collapsed": true
   },
   "outputs": [],
   "source": [
    "def  priceAsianArithmeticMeanCallMC_withControlVariate(S0,K,r,T,sigma,M,N):\n",
    "    \"\"\"\n",
    "    priceOptionMC: Black-Scholes price of a generic option providing a payoff.\n",
    "    \n",
    "    INPUT:\n",
    "       S0 : Initial value of the underlying asset\n",
    "        r : Risk-free interest rate \n",
    "        T : Time to expiry \n",
    "    sigma : Volatility \n",
    "        M : Number of simulations\n",
    "        N : Number of observations\n",
    "    payoff_function : payoff function of the option\n",
    "    \n",
    "    OUTPUT:\n",
    "     price_MC : MC estimate of the price of the option in the Black-Scholes model  \n",
    "     stdev_MC : MC estimate of the standard deviation  \n",
    "    \"\"\"\n",
    "    \n",
    "    ## Generate M x N samples from N(0,1)\n",
    "    X = np.random.randn(M, N)\n",
    "\n",
    "    ## Simulate M trajectories in N steps\n",
    "    deltaT = T / N\n",
    "    e = np.exp((r-0.5*sigma**2) * deltaT  + sigma * np.sqrt(deltaT) * X)\n",
    "    S = np.cumprod(np.c_[S0 * np.ones((M,1)), e], axis=1)        \n",
    "        \n",
    "    def arithmeticMean(S):\n",
    "        S_mean = np.mean(S[:, 1:], 1)\n",
    "        return np.where(S_mean < K, 0, S_mean - K)\n",
    "        \n",
    "    def geometricMean(S):\n",
    "        S_mean = np.exp(np.mean(np.log(S[:, 1:]), 1))\n",
    "        return np.where(S_mean < K, 0, S_mean - K)    \n",
    "        \n",
    "        \n",
    "    payoff_ar, price_ar, std_ar = priceOptionMCWithSAsInput(S, r, T, M, arithmeticMean)\n",
    "    payoff_geom, price_geom, std_geom = priceOptionMCWithSAsInput(S, r, T, M, geometricMean)\n",
    "    price_geom_exact = priceAsianGeometricMeanCall(S0,K,r,T,sigma,N)\n",
    "    \n",
    "    covarianceMatrix = np.cov(np.c_[payoff_ar, payoff_geom].T)\n",
    "    \n",
    "    var_ar = covarianceMatrix[0,0]\n",
    "    var_geom = covarianceMatrix[1,1]\n",
    "    cov_ar_geom = covarianceMatrix[0,1]\n",
    "    \n",
    "    corr_ar_geom = cov_ar_geom / np.sqrt(var_ar * var_geom)\n",
    "    \n",
    "    \n",
    "    price_MC = price_ar - cov_ar_geom / var_geom * (price_geom - price_geom_exact)\n",
    "    std_MC = std_ar * np.sqrt(1 - corr_ar_geom**2)\n",
    "    return price_MC, std_MC"
   ]
  },
  {
   "cell_type": "code",
   "execution_count": 75,
   "metadata": {},
   "outputs": [],
   "source": [
    "def constructPortfolio(N=5, horizon=5, simulateLoss='historic'):\n",
    "\n",
    "    if simulateLoss == 'historic':\n",
    "        simulateLoss = simulateLossHistoric\n",
    "    else:\n",
    "        simulateLoss = simulateLossMC\n",
    "    S = DataReader([\"IBM\", \"GOOGL\"],  \"yahoo\", datetime(2007,7,1), datetime(2013,6,30))['Adj Close']\n",
    "    \n",
    "    ## Select data in recent past -- we don't want to test with data which is too old.\n",
    "    N = 500\n",
    "    \n",
    "    S = S.iloc[-N:]\n",
    "    S0 = S.iloc[-1]\n",
    "    print \"Behavior of stock over last %s days\" % N\n",
    "    S.plot()\n",
    "    plt.show()\n",
    "    ## Compute returns for specified time horizons\n",
    "    # Horizon for the risk measures\n",
    "    horizon = 5\n",
    "    \n",
    "    # Overlapping indices    \n",
    "    logReturns = np.log(S / S.shift(horizon))\n",
    "    logReturns.dropna(inplace=True)\n",
    "    \n",
    "    \n",
    "    ## Portfolio of stocks and options. \n",
    "    ## portfolioComposition holds the number of assets held in the portfolio\n",
    "    wghts = {\"IBM\"               : 500, \n",
    "             \"GOOGL\"             : 200,\n",
    "             \"IBM_call\"          : 5000,\n",
    "             \"GOOGL_asianCallAM\" : 2000}\n",
    "    portfolioComposition = pd.Series(data=wghts.values(), index=wghts.keys(), dtype=np.float)\n",
    "    ## portfolio will hold the value per asset in the portfolio\n",
    "    portfolio = pd.Series(index=portfolioComposition.index, data=0, dtype=np.float)\n",
    "    portfolio[[\"IBM\", \"GOOGL\"]] = S0[[\"IBM\", \"GOOGL\"]]\n",
    "    \n",
    "    \n",
    "    ## Computing value of European call options for IBM in portfolio\n",
    "    r = .01         # interest rate\n",
    "    K_call = 180    # strike price\n",
    "    T_call = 1      # time to maturity\n",
    "    sigma_IBM_implied = .16  # Implied volatility on IBM call options\n",
    "    def priceEur(S):\n",
    "        return priceEuropeanCall(S, K_call, r, T_call, sigma_IBM_implied)\n",
    "    portfolio[\"IBM_call\"] = priceEur(S0[\"IBM\"])\n",
    "\n",
    "    ## Computing value of Asian call options with Arithmetic mean for google using a control variate\n",
    "    N_AM = 6      # Number of monitoring times for the arithmetic mean \n",
    "    T_AM = .5     # Time to maturity\n",
    "    M_AM = 1e3    # Number of simulated trajectories\n",
    "    K_AM = 430    # Strike of the Asian arithmetic mean call option\n",
    "    \n",
    "    \n",
    "    #\n",
    "    ## !!!! K_AM should be changed to 880 if you are using this code for the homework !!!! ###\n",
    "    #\n",
    "    \n",
    "    \n",
    "    # Here we use historical volatility\n",
    "    nDaysInYear = 252\n",
    "    sigma_GOOG   = sqrt(nDaysInYear/horizon)*std(logReturns[\"GOOGL\"])\n",
    "    def priceAsian(S):\n",
    "        return priceAsianArithmeticMeanCallMC_withControlVariate(S, K_AM, r, T_AM, sigma_GOOG, M_AM, N_AM)\n",
    "    price_AM, std_AM = priceAsian(S0[\"GOOGL\"])\n",
    "    portfolio[\"GOOGL_asianCallAM\"] = price_AM\n",
    "    \n",
    "    print \"Current value per asset:\"\n",
    "    print portfolio.head()\n",
    "    print\n",
    "    print \"Weight in portfolio:\"\n",
    "    print portfolioComposition.head()\n",
    "    print\n",
    "    \n",
    "    # Next we simulate the potential returns of the portfolio using either the\n",
    "    # historic method (bootstrapping of historic data)\n",
    "    # Monte Carlo (Fitting a copula to historic data, and simulating new data)\n",
    "    simulated_assets = simulateLoss(logReturns[[\"IBM\", \"GOOGL\"]], S0, priceEur, priceAsian)\n",
    "    \n",
    "    print \"Simulated return histograms\"\n",
    "    simulated_assets.hist(bins=20)\n",
    "    plt.show()\n",
    "    print \"Corresponding simulated returns of weighted portfolio\"\n",
    "    simulated_portfolio = (simulated_assets * portfolioComposition).sum(axis=1)\n",
    "    simulated_portfolio.hist(bins=25)\n",
    "    current_portfolio = (portfolio * portfolioComposition).sum()\n",
    "    plt.show()\n",
    "    \n",
    "    print \"Simulated loss of portfolio\"\n",
    "    loss_simulated = (-(simulated_portfolio - current_portfolio))\n",
    "    \n",
    "    ## Finally, we compute the VaR at 5% and the estimated loss\n",
    "    p = .95\n",
    "    VaR = loss_simulated.quantile(.95)\n",
    "    indexTail = loss_simulated > VaR\n",
    "    ES = np.mean(loss_simulated.ix[indexTail])\n",
    "    \n",
    "    fig = plt.figure()\n",
    "    ax = fig.add_subplot(111)\n",
    "    loss_simulated.hist(bins=50, ax=ax, normed=True)\n",
    "    y_lim = ax.get_ylim()\n",
    "    \n",
    "    ax.plot([VaR, VaR], y_lim, 'r', label='VaR 5%')\n",
    "    ax.plot([ES, ES], y_lim, 'g', label='ES 5%')\n",
    "    ax.legend(loc='best')\n",
    "    plt.show()\n",
    "    print \n",
    "    # Print out returns. VaR is the value at risk, and larger is worse.\n",
    "    print \"Value-at-Risk: %.2f\" % VaR\n",
    "    print \"Expected Shortfall: %.2f\" % ES"
   ]
  },
  {
   "cell_type": "markdown",
   "metadata": {},
   "source": [
    "First we have the Monte Carlo approach"
   ]
  },
  {
   "cell_type": "code",
   "execution_count": 76,
   "metadata": {},
   "outputs": [
    {
     "ename": "RemoteDataError",
     "evalue": "No data fetched using '_get_hist_yahoo'",
     "output_type": "error",
     "traceback": [
      "\u001b[0;31m---------------------------------------------------------------------------\u001b[0m",
      "\u001b[0;31mRemoteDataError\u001b[0m                           Traceback (most recent call last)",
      "\u001b[0;32m<ipython-input-76-020c1317867f>\u001b[0m in \u001b[0;36m<module>\u001b[0;34m()\u001b[0m\n\u001b[0;32m----> 1\u001b[0;31m \u001b[0mconstructPortfolio\u001b[0m\u001b[0;34m(\u001b[0m\u001b[0msimulateLoss\u001b[0m\u001b[0;34m=\u001b[0m\u001b[0;34m'MC'\u001b[0m\u001b[0;34m)\u001b[0m\u001b[0;34m\u001b[0m\u001b[0m\n\u001b[0m",
      "\u001b[0;32m<ipython-input-75-6437e46b8c3a>\u001b[0m in \u001b[0;36mconstructPortfolio\u001b[0;34m(N, horizon, simulateLoss)\u001b[0m\n\u001b[1;32m      5\u001b[0m     \u001b[0;32melse\u001b[0m\u001b[0;34m:\u001b[0m\u001b[0;34m\u001b[0m\u001b[0m\n\u001b[1;32m      6\u001b[0m         \u001b[0msimulateLoss\u001b[0m \u001b[0;34m=\u001b[0m \u001b[0msimulateLossMC\u001b[0m\u001b[0;34m\u001b[0m\u001b[0m\n\u001b[0;32m----> 7\u001b[0;31m     \u001b[0mS\u001b[0m \u001b[0;34m=\u001b[0m \u001b[0mDataReader\u001b[0m\u001b[0;34m(\u001b[0m\u001b[0;34m[\u001b[0m\u001b[0;34m\"IBM\"\u001b[0m\u001b[0;34m,\u001b[0m \u001b[0;34m\"GOOGL\"\u001b[0m\u001b[0;34m]\u001b[0m\u001b[0;34m,\u001b[0m  \u001b[0;34m\"yahoo\"\u001b[0m\u001b[0;34m,\u001b[0m \u001b[0mdatetime\u001b[0m\u001b[0;34m(\u001b[0m\u001b[0;36m2007\u001b[0m\u001b[0;34m,\u001b[0m\u001b[0;36m7\u001b[0m\u001b[0;34m,\u001b[0m\u001b[0;36m1\u001b[0m\u001b[0;34m)\u001b[0m\u001b[0;34m,\u001b[0m \u001b[0mdatetime\u001b[0m\u001b[0;34m(\u001b[0m\u001b[0;36m2013\u001b[0m\u001b[0;34m,\u001b[0m\u001b[0;36m6\u001b[0m\u001b[0;34m,\u001b[0m\u001b[0;36m30\u001b[0m\u001b[0;34m)\u001b[0m\u001b[0;34m)\u001b[0m\u001b[0;34m[\u001b[0m\u001b[0;34m'Adj Close'\u001b[0m\u001b[0;34m]\u001b[0m\u001b[0;34m\u001b[0m\u001b[0m\n\u001b[0m\u001b[1;32m      8\u001b[0m \u001b[0;34m\u001b[0m\u001b[0m\n\u001b[1;32m      9\u001b[0m     \u001b[0;31m## Select data in recent past -- we don't want to test with data which is too old.\u001b[0m\u001b[0;34m\u001b[0m\u001b[0;34m\u001b[0m\u001b[0m\n",
      "\u001b[0;32m/usr/local/lib/python2.7/site-packages/pandas/io/data.pyc\u001b[0m in \u001b[0;36mDataReader\u001b[0;34m(name, data_source, start, end, retry_count, pause)\u001b[0m\n\u001b[1;32m     91\u001b[0m         return get_data_yahoo(symbols=name, start=start, end=end,\n\u001b[1;32m     92\u001b[0m                               \u001b[0madjust_price\u001b[0m\u001b[0;34m=\u001b[0m\u001b[0mFalse\u001b[0m\u001b[0;34m,\u001b[0m \u001b[0mchunksize\u001b[0m\u001b[0;34m=\u001b[0m\u001b[0;36m25\u001b[0m\u001b[0;34m,\u001b[0m\u001b[0;34m\u001b[0m\u001b[0m\n\u001b[0;32m---> 93\u001b[0;31m                               retry_count=retry_count, pause=pause)\n\u001b[0m\u001b[1;32m     94\u001b[0m     \u001b[0;32melif\u001b[0m \u001b[0mdata_source\u001b[0m \u001b[0;34m==\u001b[0m \u001b[0;34m\"google\"\u001b[0m\u001b[0;34m:\u001b[0m\u001b[0;34m\u001b[0m\u001b[0m\n\u001b[1;32m     95\u001b[0m         return get_data_google(symbols=name, start=start, end=end,\n",
      "\u001b[0;32m/usr/local/lib/python2.7/site-packages/pandas/io/data.pyc\u001b[0m in \u001b[0;36mget_data_yahoo\u001b[0;34m(symbols, start, end, retry_count, pause, adjust_price, ret_index, chunksize, interval)\u001b[0m\n\u001b[1;32m    438\u001b[0m         \u001b[0;32mraise\u001b[0m \u001b[0mValueError\u001b[0m\u001b[0;34m(\u001b[0m\u001b[0;34m\"Invalid interval: valid values are 'd', 'w', 'm' and 'v'\"\u001b[0m\u001b[0;34m)\u001b[0m\u001b[0;34m\u001b[0m\u001b[0m\n\u001b[1;32m    439\u001b[0m     return _get_data_from(symbols, start, end, interval, retry_count, pause,\n\u001b[0;32m--> 440\u001b[0;31m                           adjust_price, ret_index, chunksize, 'yahoo')\n\u001b[0m\u001b[1;32m    441\u001b[0m \u001b[0;34m\u001b[0m\u001b[0m\n\u001b[1;32m    442\u001b[0m \u001b[0;34m\u001b[0m\u001b[0m\n",
      "\u001b[0;32m/usr/local/lib/python2.7/site-packages/pandas/io/data.pyc\u001b[0m in \u001b[0;36m_get_data_from\u001b[0;34m(symbols, start, end, interval, retry_count, pause, adjust_price, ret_index, chunksize, source)\u001b[0m\n\u001b[1;32m    386\u001b[0m     \u001b[0;32melse\u001b[0m\u001b[0;34m:\u001b[0m\u001b[0;34m\u001b[0m\u001b[0m\n\u001b[1;32m    387\u001b[0m         hist_data = _dl_mult_symbols(symbols, start, end, interval, chunksize,\n\u001b[0;32m--> 388\u001b[0;31m                                      retry_count, pause, src_fn)\n\u001b[0m\u001b[1;32m    389\u001b[0m     \u001b[0;32mif\u001b[0m \u001b[0msource\u001b[0m\u001b[0;34m.\u001b[0m\u001b[0mlower\u001b[0m\u001b[0;34m(\u001b[0m\u001b[0;34m)\u001b[0m \u001b[0;34m==\u001b[0m \u001b[0;34m'yahoo'\u001b[0m\u001b[0;34m:\u001b[0m\u001b[0;34m\u001b[0m\u001b[0m\n\u001b[1;32m    390\u001b[0m         \u001b[0;32mif\u001b[0m \u001b[0mret_index\u001b[0m\u001b[0;34m:\u001b[0m\u001b[0;34m\u001b[0m\u001b[0m\n",
      "\u001b[0;32m/usr/local/lib/python2.7/site-packages/pandas/io/data.pyc\u001b[0m in \u001b[0;36m_dl_mult_symbols\u001b[0;34m(symbols, start, end, interval, chunksize, retry_count, pause, method)\u001b[0m\n\u001b[1;32m    356\u001b[0m     \u001b[0;32mif\u001b[0m \u001b[0mlen\u001b[0m\u001b[0;34m(\u001b[0m\u001b[0mpassed\u001b[0m\u001b[0;34m)\u001b[0m \u001b[0;34m==\u001b[0m \u001b[0;36m0\u001b[0m\u001b[0;34m:\u001b[0m\u001b[0;34m\u001b[0m\u001b[0m\n\u001b[1;32m    357\u001b[0m         raise RemoteDataError(\"No data fetched using \"\n\u001b[0;32m--> 358\u001b[0;31m                               \"{0!r}\".format(method.__name__))\n\u001b[0m\u001b[1;32m    359\u001b[0m     \u001b[0;32mtry\u001b[0m\u001b[0;34m:\u001b[0m\u001b[0;34m\u001b[0m\u001b[0m\n\u001b[1;32m    360\u001b[0m         \u001b[0;32mif\u001b[0m \u001b[0mlen\u001b[0m\u001b[0;34m(\u001b[0m\u001b[0mstocks\u001b[0m\u001b[0;34m)\u001b[0m \u001b[0;34m>\u001b[0m \u001b[0;36m0\u001b[0m \u001b[0;32mand\u001b[0m \u001b[0mlen\u001b[0m\u001b[0;34m(\u001b[0m\u001b[0mfailed\u001b[0m\u001b[0;34m)\u001b[0m \u001b[0;34m>\u001b[0m \u001b[0;36m0\u001b[0m \u001b[0;32mand\u001b[0m \u001b[0mlen\u001b[0m\u001b[0;34m(\u001b[0m\u001b[0mpassed\u001b[0m\u001b[0;34m)\u001b[0m \u001b[0;34m>\u001b[0m \u001b[0;36m0\u001b[0m\u001b[0;34m:\u001b[0m\u001b[0;34m\u001b[0m\u001b[0m\n",
      "\u001b[0;31mRemoteDataError\u001b[0m: No data fetched using '_get_hist_yahoo'"
     ]
    }
   ],
   "source": [
    "constructPortfolio(simulateLoss='MC')"
   ]
  },
  {
   "cell_type": "markdown",
   "metadata": {},
   "source": [
    "And now using the historic method"
   ]
  },
  {
   "cell_type": "code",
   "execution_count": 77,
   "metadata": {},
   "outputs": [
    {
     "ename": "RemoteDataError",
     "evalue": "No data fetched using '_get_hist_yahoo'",
     "output_type": "error",
     "traceback": [
      "\u001b[0;31m---------------------------------------------------------------------------\u001b[0m",
      "\u001b[0;31mRemoteDataError\u001b[0m                           Traceback (most recent call last)",
      "\u001b[0;32m<ipython-input-77-70da04c2fb14>\u001b[0m in \u001b[0;36m<module>\u001b[0;34m()\u001b[0m\n\u001b[0;32m----> 1\u001b[0;31m \u001b[0mconstructPortfolio\u001b[0m\u001b[0;34m(\u001b[0m\u001b[0msimulateLoss\u001b[0m\u001b[0;34m=\u001b[0m\u001b[0;34m'historic'\u001b[0m\u001b[0;34m)\u001b[0m\u001b[0;34m\u001b[0m\u001b[0m\n\u001b[0m",
      "\u001b[0;32m<ipython-input-75-6437e46b8c3a>\u001b[0m in \u001b[0;36mconstructPortfolio\u001b[0;34m(N, horizon, simulateLoss)\u001b[0m\n\u001b[1;32m      5\u001b[0m     \u001b[0;32melse\u001b[0m\u001b[0;34m:\u001b[0m\u001b[0;34m\u001b[0m\u001b[0m\n\u001b[1;32m      6\u001b[0m         \u001b[0msimulateLoss\u001b[0m \u001b[0;34m=\u001b[0m \u001b[0msimulateLossMC\u001b[0m\u001b[0;34m\u001b[0m\u001b[0m\n\u001b[0;32m----> 7\u001b[0;31m     \u001b[0mS\u001b[0m \u001b[0;34m=\u001b[0m \u001b[0mDataReader\u001b[0m\u001b[0;34m(\u001b[0m\u001b[0;34m[\u001b[0m\u001b[0;34m\"IBM\"\u001b[0m\u001b[0;34m,\u001b[0m \u001b[0;34m\"GOOGL\"\u001b[0m\u001b[0;34m]\u001b[0m\u001b[0;34m,\u001b[0m  \u001b[0;34m\"yahoo\"\u001b[0m\u001b[0;34m,\u001b[0m \u001b[0mdatetime\u001b[0m\u001b[0;34m(\u001b[0m\u001b[0;36m2007\u001b[0m\u001b[0;34m,\u001b[0m\u001b[0;36m7\u001b[0m\u001b[0;34m,\u001b[0m\u001b[0;36m1\u001b[0m\u001b[0;34m)\u001b[0m\u001b[0;34m,\u001b[0m \u001b[0mdatetime\u001b[0m\u001b[0;34m(\u001b[0m\u001b[0;36m2013\u001b[0m\u001b[0;34m,\u001b[0m\u001b[0;36m6\u001b[0m\u001b[0;34m,\u001b[0m\u001b[0;36m30\u001b[0m\u001b[0;34m)\u001b[0m\u001b[0;34m)\u001b[0m\u001b[0;34m[\u001b[0m\u001b[0;34m'Adj Close'\u001b[0m\u001b[0;34m]\u001b[0m\u001b[0;34m\u001b[0m\u001b[0m\n\u001b[0m\u001b[1;32m      8\u001b[0m \u001b[0;34m\u001b[0m\u001b[0m\n\u001b[1;32m      9\u001b[0m     \u001b[0;31m## Select data in recent past -- we don't want to test with data which is too old.\u001b[0m\u001b[0;34m\u001b[0m\u001b[0;34m\u001b[0m\u001b[0m\n",
      "\u001b[0;32m/usr/local/lib/python2.7/site-packages/pandas/io/data.pyc\u001b[0m in \u001b[0;36mDataReader\u001b[0;34m(name, data_source, start, end, retry_count, pause)\u001b[0m\n\u001b[1;32m     91\u001b[0m         return get_data_yahoo(symbols=name, start=start, end=end,\n\u001b[1;32m     92\u001b[0m                               \u001b[0madjust_price\u001b[0m\u001b[0;34m=\u001b[0m\u001b[0mFalse\u001b[0m\u001b[0;34m,\u001b[0m \u001b[0mchunksize\u001b[0m\u001b[0;34m=\u001b[0m\u001b[0;36m25\u001b[0m\u001b[0;34m,\u001b[0m\u001b[0;34m\u001b[0m\u001b[0m\n\u001b[0;32m---> 93\u001b[0;31m                               retry_count=retry_count, pause=pause)\n\u001b[0m\u001b[1;32m     94\u001b[0m     \u001b[0;32melif\u001b[0m \u001b[0mdata_source\u001b[0m \u001b[0;34m==\u001b[0m \u001b[0;34m\"google\"\u001b[0m\u001b[0;34m:\u001b[0m\u001b[0;34m\u001b[0m\u001b[0m\n\u001b[1;32m     95\u001b[0m         return get_data_google(symbols=name, start=start, end=end,\n",
      "\u001b[0;32m/usr/local/lib/python2.7/site-packages/pandas/io/data.pyc\u001b[0m in \u001b[0;36mget_data_yahoo\u001b[0;34m(symbols, start, end, retry_count, pause, adjust_price, ret_index, chunksize, interval)\u001b[0m\n\u001b[1;32m    438\u001b[0m         \u001b[0;32mraise\u001b[0m \u001b[0mValueError\u001b[0m\u001b[0;34m(\u001b[0m\u001b[0;34m\"Invalid interval: valid values are 'd', 'w', 'm' and 'v'\"\u001b[0m\u001b[0;34m)\u001b[0m\u001b[0;34m\u001b[0m\u001b[0m\n\u001b[1;32m    439\u001b[0m     return _get_data_from(symbols, start, end, interval, retry_count, pause,\n\u001b[0;32m--> 440\u001b[0;31m                           adjust_price, ret_index, chunksize, 'yahoo')\n\u001b[0m\u001b[1;32m    441\u001b[0m \u001b[0;34m\u001b[0m\u001b[0m\n\u001b[1;32m    442\u001b[0m \u001b[0;34m\u001b[0m\u001b[0m\n",
      "\u001b[0;32m/usr/local/lib/python2.7/site-packages/pandas/io/data.pyc\u001b[0m in \u001b[0;36m_get_data_from\u001b[0;34m(symbols, start, end, interval, retry_count, pause, adjust_price, ret_index, chunksize, source)\u001b[0m\n\u001b[1;32m    386\u001b[0m     \u001b[0;32melse\u001b[0m\u001b[0;34m:\u001b[0m\u001b[0;34m\u001b[0m\u001b[0m\n\u001b[1;32m    387\u001b[0m         hist_data = _dl_mult_symbols(symbols, start, end, interval, chunksize,\n\u001b[0;32m--> 388\u001b[0;31m                                      retry_count, pause, src_fn)\n\u001b[0m\u001b[1;32m    389\u001b[0m     \u001b[0;32mif\u001b[0m \u001b[0msource\u001b[0m\u001b[0;34m.\u001b[0m\u001b[0mlower\u001b[0m\u001b[0;34m(\u001b[0m\u001b[0;34m)\u001b[0m \u001b[0;34m==\u001b[0m \u001b[0;34m'yahoo'\u001b[0m\u001b[0;34m:\u001b[0m\u001b[0;34m\u001b[0m\u001b[0m\n\u001b[1;32m    390\u001b[0m         \u001b[0;32mif\u001b[0m \u001b[0mret_index\u001b[0m\u001b[0;34m:\u001b[0m\u001b[0;34m\u001b[0m\u001b[0m\n",
      "\u001b[0;32m/usr/local/lib/python2.7/site-packages/pandas/io/data.pyc\u001b[0m in \u001b[0;36m_dl_mult_symbols\u001b[0;34m(symbols, start, end, interval, chunksize, retry_count, pause, method)\u001b[0m\n\u001b[1;32m    356\u001b[0m     \u001b[0;32mif\u001b[0m \u001b[0mlen\u001b[0m\u001b[0;34m(\u001b[0m\u001b[0mpassed\u001b[0m\u001b[0;34m)\u001b[0m \u001b[0;34m==\u001b[0m \u001b[0;36m0\u001b[0m\u001b[0;34m:\u001b[0m\u001b[0;34m\u001b[0m\u001b[0m\n\u001b[1;32m    357\u001b[0m         raise RemoteDataError(\"No data fetched using \"\n\u001b[0;32m--> 358\u001b[0;31m                               \"{0!r}\".format(method.__name__))\n\u001b[0m\u001b[1;32m    359\u001b[0m     \u001b[0;32mtry\u001b[0m\u001b[0;34m:\u001b[0m\u001b[0;34m\u001b[0m\u001b[0m\n\u001b[1;32m    360\u001b[0m         \u001b[0;32mif\u001b[0m \u001b[0mlen\u001b[0m\u001b[0;34m(\u001b[0m\u001b[0mstocks\u001b[0m\u001b[0;34m)\u001b[0m \u001b[0;34m>\u001b[0m \u001b[0;36m0\u001b[0m \u001b[0;32mand\u001b[0m \u001b[0mlen\u001b[0m\u001b[0;34m(\u001b[0m\u001b[0mfailed\u001b[0m\u001b[0;34m)\u001b[0m \u001b[0;34m>\u001b[0m \u001b[0;36m0\u001b[0m \u001b[0;32mand\u001b[0m \u001b[0mlen\u001b[0m\u001b[0;34m(\u001b[0m\u001b[0mpassed\u001b[0m\u001b[0;34m)\u001b[0m \u001b[0;34m>\u001b[0m \u001b[0;36m0\u001b[0m\u001b[0;34m:\u001b[0m\u001b[0;34m\u001b[0m\u001b[0m\n",
      "\u001b[0;31mRemoteDataError\u001b[0m: No data fetched using '_get_hist_yahoo'"
     ]
    }
   ],
   "source": [
    "constructPortfolio(simulateLoss='historic')"
   ]
  },
  {
   "cell_type": "markdown",
   "metadata": {},
   "source": [
    "#### Expectation Maximizaton of Gaussian Mixtures"
   ]
  },
  {
   "cell_type": "markdown",
   "metadata": {},
   "source": [
    "In the homework we are given an implementation for an algorithm which finds the maximum likelihood for models with latent variables. This particular algorithm applies to Gaussian mixture models. Here we provide the Python version for this implementation."
   ]
  },
  {
   "cell_type": "code",
   "execution_count": null,
   "metadata": {},
   "outputs": [],
   "source": [
    "def expectationMaximizationGM(Z, K, p=None, mu=None, sigma=None):\n",
    "    \"\"\"\n",
    "    expectationMaximizationGM: EM algorithm for a mixture of K Gaussians GM[p,mu,sigma]\n",
    "\n",
    "\n",
    "    INPUT:\n",
    "         Z : Sample with M observations \n",
    "         K : Number of Gaussians in the mixture\n",
    "\n",
    "    OPTIONAL INPUT PARAMETERS (initial seed for EM)\n",
    "         p : vector of probabilitiess  [Kx1]\n",
    "        mu : vector of means           [Kx1]\n",
    "     sigma : vector of stdev's         [Kx1]\n",
    "\n",
    "    OUTPUT:\n",
    "         p : vector of probabilitiess  [Kx1]\n",
    "        mu : vector of means           [Kx1]\n",
    "     sigma : vector of stdev's         [Kx1]\n",
    "\n",
    "%% EXAMPLE:\n",
    "%\n",
    "%   %% Sample matrix (M rows, N columns) \n",
    "%   M = 1000;\n",
    "%   N = 1;\n",
    "%   %% Gaussian components\n",
    "%   p     = [ 1/2 1/3  1/6];  % probability vector \n",
    "%   mu    = [-1.0 4.0 12.0];  % means \n",
    "%   sigma = [ 1.0 3.0  0.5];  % standard deviations\n",
    "%\n",
    "%   %% Generate sample Z ~ GM[p,mu,sigma)\n",
    "%   Z = GMrand(M,N,p,mu,sigma);\n",
    "%\n",
    "%   %% EM for Gaussian mixture\n",
    "%   [p, mu, sigma] = expectationMaximizationGM(Z,3)\n",
    "%\n",
    "%   %% Compare modelPdf and scaled histogram\n",
    "%   modelPdf = @(z)(GMpdf(z,p,mu,sigma));\n",
    "%   figure(1); graphicalComparisonPdf(Z(:),modelPdf)\n",
    "%   title('Z ~ GM[p,\\mu,\\sigma]')\n",
    "    \"\"\"\n",
    "    if K == 1:\n",
    "        # Fit to a single Gaussian  \n",
    "        p = 1\n",
    "        mu = np.mean(Z)\n",
    "        sigma = np.std(Z)\n",
    "        return p, mu, sigma\n",
    "\n",
    "    if mu is None or sigma is None or p is None:\n",
    "        # initialization of parameters\n",
    "        mu0 = np.mean(Z)\n",
    "        sigma0 = np.std(Z)\n",
    "        mu = np.linspace(mu0 - 2 * sigma0, mu0 + 2 * sigma0, K)\n",
    "        sigma = 2 * sigma0 * np.ones_like(mu, dtype=np.float)\n",
    "        p = np.ones(K, dtype=np.float) / K\n",
    "        \n",
    "    p = np.asarray(p).flatten()\n",
    "    sigma = np.asarray(p).flatten()\n",
    "    mu = np.asarray(mu).flatten()\n",
    "\n",
    "    Z = np.asarray(Z).flatten()  # Ensures that Z is a row vector\n",
    "    M = Z.size                   # Size of the sample\n",
    "    \n",
    "    a, b, c, m = 0.0, 0.0, 0.0, 0.0    # standard EM\n",
    "    #a, b, c, m = .2, .2, .1, .0       # Modified EM (Hamilton, 1991)\n",
    "\n",
    "    TOL_MU = 1e-6\n",
    "    TOL_SIGMA = 1e-6\n",
    "    TOL_P  = 1e-6\n",
    "    MAXITER = 5000\n",
    "    \n",
    "    ##  EM Algotrithm \n",
    "    dmu = 10 * TOL_MU\n",
    "    dsigma = 10 * TOL_SIGMA\n",
    "    dp = 10 * TOL_P\n",
    "    nIter = 0\n",
    "    \n",
    "    def gt(vec, tol):\n",
    "        return np.any(np.abs(vec) > tol)\n",
    "    \n",
    "    def weightedNormPDF(Z, mu, sigma, p):\n",
    "        Zsc = (Z[np.newaxis]-mu[:, np.newaxis])/sigma[:, np.newaxis]\n",
    "        return p[:, np.newaxis] * np.exp(- (Zsc**2) /2) / (np.sqrt(2*np.pi) * sigma[:, np.newaxis])\n",
    "    \n",
    "    while ((nIter < MAXITER) & (gt(dmu, TOL_MU) | gt(dsigma, TOL_SIGMA) | gt(dp, TOL_P))):\n",
    "        # increment the iteration counter\n",
    "        nIter = nIter + 1\n",
    "        gamma = np.empty((K, M), dtype=np.float)\n",
    "        \n",
    "        \n",
    "        gamma = weightedNormPDF(Z, mu, sigma, p)\n",
    "        \n",
    "        gNorm = gamma.sum(axis=0)\n",
    "        gamma = gamma / gNorm[np.newaxis, :]\n",
    "        gNorm2 = gamma.sum(axis=1)\n",
    "        \n",
    "        \n",
    "        dp = -p\n",
    "        dmu = -mu\n",
    "        dsigma = -sigma\n",
    "        \n",
    "        \n",
    "        p = gNorm2 / M\n",
    "        mu = (c * m + np.dot(gamma, Z))/(c + gNorm2)\n",
    "        sigma = np.sqrt((b + c * (m - mu))**2 + \n",
    "                        (gamma * (Z[np.newaxis, :] - mu[:, np.newaxis])**2).sum(axis=1) /\n",
    "                        (a + gNorm2))\n",
    "        \n",
    "        # check how much paremeter estimates have changed\n",
    "        dp = dp + p\n",
    "        dsigma = dsigma + sigma\n",
    "        dmu = dmu + mu\n",
    "        \n",
    "    if (nIter >= MAXITER):\n",
    "        print 'Warning: EM for GM has not fully converged. Try a smaller number of Gaussians'\n",
    "\n",
    "    return p,mu,sigma\n"
   ]
  },
  {
   "cell_type": "code",
   "execution_count": null,
   "metadata": {},
   "outputs": [],
   "source": [
    "def categoricalRand(M, N, p):\n",
    "    \"\"\"\n",
    "    Random number generator for categorical variables.\n",
    "    \n",
    "    INPUT:\n",
    "    M : size of sample\n",
    "    N : number of samples\n",
    "    p : array of (normalized) probabilities for categorical variables\n",
    "    \n",
    "    OUTPUT:\n",
    "    \n",
    "    k : N samples of size M (MxN array) of randomly drawn categorical variables.\n",
    "        k takes values between 1 and the size of p.\n",
    "    \n",
    "    \"\"\"\n",
    "    p = np.cumsum(np.r_[0, p])\n",
    "\n",
    "    # Sample from U[0,1]\n",
    "    k = np.random.rand(M,N)\n",
    "    # Sample from Categorical[p,K]\n",
    "    k = np.sum(k[:,:,np.newaxis] > p, axis = 2)\n",
    "    return k.astype(np.int)\n",
    "\n",
    "def GMrand(M, N, p, mu, sigma):\n",
    "    \"\"\"\n",
    "    Random number generator for random variables drawn from a Gaussian Mixture.\n",
    "    \n",
    "    INPUT:\n",
    "    M     : size of sample\n",
    "    N     : number of samples\n",
    "    p     : weight for each Gaussian\n",
    "    mu    : mean for each Gaussian\n",
    "    sigma : std for each Gaussian\n",
    "    \n",
    "    OUTPUT:\n",
    "    \n",
    "    Z : N samples of size M (MxN array) of randomly drawn variables from a Gaussian mixture. \n",
    "    \n",
    "    \"\"\"\n",
    "    p  = np.asarray(p)\n",
    "    mu = np.asarray(mu)\n",
    "    sigma = np.asarray(sigma)\n",
    "    \n",
    "    xi = categoricalRand(M,N,p) - 1\n",
    "    \n",
    "    X  = randn(M,N)\n",
    "    Z  = mu[xi] + sigma[xi] * X\n",
    "    return Z\n",
    "\n",
    "def GMpdf(x, p, mu, sigma):\n",
    "    \"\"\"\n",
    "    Exact PDF of a Gaussian Mixture\n",
    "    INPUT:\n",
    "      x     : shape used for shape of output [MxN]\n",
    "      p     : Probability vector  [Kx1]\n",
    "      mu    : Vector of means     [Kx1]\n",
    "      sigma : Vector of stdev's   [Kx1]\n",
    "\n",
    "    OUTPUT:\n",
    "      y : Value of the pdf [same size as x]  \n",
    "    \"\"\"\n",
    "    \n",
    "    # Compute pdf \n",
    "    y = np.zeros_like(x, dtype = np.float);\n",
    "    for k in range(len(p)):\n",
    "        y = y + p[k]*norm.pdf(x,mu[k],sigma[k])\n",
    "    return y"
   ]
  },
  {
   "cell_type": "code",
   "execution_count": null,
   "metadata": {},
   "outputs": [],
   "source": [
    "def example():\n",
    "    ## Sample matrix (M rows, N columns) \n",
    "    M = 1e4;\n",
    "    N = 1;\n",
    "    ## Gaussian components\n",
    "    p     = [ 1/2, 1/3,  1/6]   # probability vector \n",
    "    mu    = [-1.0, 4.0, 12.0]   # means \n",
    "    sigma = [ 1.0, 3.0,  0.5]   # standard deviations\n",
    "\n",
    "    ## Generate sample Z ~ GM[p,mu,sigma)\n",
    "    Z = GMrand(M,N,p,mu,sigma)\n",
    "\n",
    "    ## EM for Gaussian mixture\n",
    "    p_e, mu_e, sigma_e = expectationMaximizationGM(Z, 3)\n",
    "    print \"Estimated vs True parameters:\"\n",
    "    print \"Gaussian weights: {}   {}\".format(np.round(p_e,4), np.round(p, 4))\n",
    "    print \"Gaussian means:   {}   {}\".format(np.round(mu_e,4), mu)\n",
    "    print \"Gaussian std:     {}   {}\".format(np.round(sigma_e,4), sigma)\n",
    "    print\n",
    "    print \"Estimated PDF vs histogram of sampled data\"\n",
    "    def modelPDF(x):\n",
    "        return GMpdf(x, p_e, mu_e, sigma_e)\n",
    "    graphicalComparisonPdf(Z, modelPDF)\n",
    "    plt.show()\n",
    "    \n",
    "example()"
   ]
  },
  {
   "cell_type": "code",
   "execution_count": null,
   "metadata": {},
   "outputs": [],
   "source": []
  }
 ],
 "metadata": {
  "kernelspec": {
   "display_name": "Python 3",
   "language": "python",
   "name": "python3"
  },
  "language_info": {
   "codemirror_mode": {
    "name": "ipython",
    "version": 2
   },
   "file_extension": ".py",
   "mimetype": "text/x-python",
   "name": "python",
   "nbconvert_exporter": "python",
   "pygments_lexer": "ipython2",
   "version": "2.7.13"
  }
 },
 "nbformat": 4,
 "nbformat_minor": 1
}
